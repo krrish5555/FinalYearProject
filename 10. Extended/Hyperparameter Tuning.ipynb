{
 "cells": [
  {
   "cell_type": "markdown",
   "metadata": {},
   "source": [
    "# Hyperparameter Tuning"
   ]
  },
  {
   "cell_type": "markdown",
   "metadata": {},
   "source": [
    "## Modifying Notebook display"
   ]
  },
  {
   "cell_type": "code",
   "execution_count": 1,
   "metadata": {},
   "outputs": [
    {
     "data": {
      "text/html": [
       "\n",
       "<style>\n",
       "    .container#notebook-container    { width: 95%;}\n",
       "    div#menubar-container     { width: 95%; }\n",
       "    div#maintoolbar-container { width: 95%; }\n",
       "</style>\n",
       "<script>\n",
       "    document.getElementById(\"notebook-container\").style.margin = \"auto\";\n",
       "</script>\n"
      ],
      "text/plain": [
       "<IPython.core.display.HTML object>"
      ]
     },
     "metadata": {},
     "output_type": "display_data"
    }
   ],
   "source": [
    "from IPython.display import display, HTML\n",
    "\n",
    "display(HTML(data=\"\"\"\n",
    "<style>\n",
    "    .container#notebook-container    { width: 95%;}\n",
    "    div#menubar-container     { width: 95%; }\n",
    "    div#maintoolbar-container { width: 95%; }\n",
    "</style>\n",
    "<script>\n",
    "    document.getElementById(\"notebook-container\").style.margin = \"auto\";\n",
    "</script>\n",
    "\"\"\"))"
   ]
  },
  {
   "cell_type": "markdown",
   "metadata": {},
   "source": [
    "## Integrating Weights and Biases\n",
    "for remote training evaluation"
   ]
  },
  {
   "cell_type": "markdown",
   "metadata": {},
   "source": [
    "import wandb\n",
    "!wandb login 79ece8e045783ede11c19a366a80babadfc8ef34"
   ]
  },
  {
   "cell_type": "markdown",
   "metadata": {},
   "source": [
    "## Importing Dependencies"
   ]
  },
  {
   "cell_type": "code",
   "execution_count": 4,
   "metadata": {},
   "outputs": [],
   "source": [
    "# Python Standard Libraries for importing data from binary file\n",
    "import time    #for calculating time\n",
    "\n",
    "#core packages\n",
    "import numpy as np\n",
    "import matplotlib.pyplot as plt\n",
    "from matplotlib.patches import Rectangle, Ellipse\n",
    "\n",
    "#custom module\n",
    "from  dataset import load_dataset, train_dev_split, prep_dataset\n",
    "\n",
    "from ffnn import init_layers, init_hyperParams\n",
    "from ffnn import train, evaluate\n",
    "\n",
    "from ModelUtils import convert_time\n",
    "from ModelUtils import save_model, load_model\n",
    "\n",
    "\n",
    "\n",
    "np.random.seed(1)\n",
    "%matplotlib inline"
   ]
  },
  {
   "cell_type": "markdown",
   "metadata": {},
   "source": [
    "## Preparing Dataset"
   ]
  },
  {
   "cell_type": "code",
   "execution_count": 5,
   "metadata": {},
   "outputs": [
    {
     "name": "stdout",
     "output_type": "stream",
     "text": [
      "Data\t\t\t Before Processing\t After Processing\n",
      "=================================================================\n",
      "Training Set Images:\t(12750, 28, 28)\t\t(784, 12750)\n",
      "Training Set Labels:\t(12750, 1)\t\t(10, 12750)\n",
      "Dev Set Images:\t\t(2250, 28, 28)\t\t(784, 2250)\n",
      "Dev Set Labels:\t\t(2250, 1)\t\t(10, 2250)\n",
      "Test Set Images:\t(2500, 28, 28)\t\t(784, 2500)\n",
      "Test Set Labels:\t(2500, 1)\t\t(10, 2500)\n",
      "=================================================================\n"
     ]
    }
   ],
   "source": [
    "#loading dataset\n",
    "dataset_size_in_per = 25\n",
    "train_x_orig, train_y_orig, test_x_orig, test_y_orig = load_dataset(dataset = \"mnist\", size_in_per = dataset_size_in_per)\n",
    "\n",
    "#splitting train dev set\n",
    "train_x_split, train_y_split, dev_x_split, dev_y_split = train_dev_split(train_x_orig, train_y_orig)\n",
    "\n",
    "#preprocessing dataset\n",
    "train_x_norm, train_y_encoded = prep_dataset(train_x_split, train_y_split, num_class = 10)\n",
    "dev_x_norm, dev_y_encoded= prep_dataset(dev_x_split, dev_y_split, num_class = 10)\n",
    "test_x_norm, test_y_encoded = prep_dataset(test_x_orig, test_y_orig, num_class = 10)\n",
    "\n",
    "print(\"Data\\t\\t\\t\",\"Before Processing\\t\",\"After Processing\")\n",
    "print(\"=================================================================\")\n",
    "print(\"Training Set Images:\\t\" + str(train_x_split.shape)+\"\\t\\t\"+ str(train_x_norm.shape))\n",
    "print(\"Training Set Labels:\\t\" + str(train_y_split.shape)+\"\\t\\t\"+ str(train_y_encoded.shape))\n",
    "print(\"Dev Set Images:\\t\\t\" + str(dev_x_split.shape)+\"\\t\\t\"+ str(dev_x_norm.shape))\n",
    "print(\"Dev Set Labels:\\t\\t\" + str(dev_y_split.shape)+\"\\t\\t\"+ str(dev_y_encoded.shape))\n",
    "print(\"Test Set Images:\\t\" + str(test_x_orig.shape)+\"\\t\\t\"+ str(test_x_norm.shape))\n",
    "print(\"Test Set Labels:\\t\" + str(test_y_orig.shape)+\"\\t\\t\"+ str(test_y_encoded.shape))\n",
    "print(\"=================================================================\")"
   ]
  },
  {
   "cell_type": "markdown",
   "metadata": {},
   "source": [
    "## Generating Samples"
   ]
  },
  {
   "cell_type": "code",
   "execution_count": 6,
   "metadata": {},
   "outputs": [],
   "source": [
    "def sample_network_architecture(hidden_layers_rng, hidden_units_rng, sample_size, hidden_units_size = 'variable', mixed_mode = False):\n",
    "    \n",
    "    sample_architectures = []\n",
    "    \n",
    "    #generating sample space for hidden units. hidden units will be choosen from this sample space only\n",
    "    hidden_units_sample_space = []\n",
    "    for i in range(hidden_units_rng[0], hidden_units_rng[1]):\n",
    "        if i % 4 == 0: #reducing the sample space by 4x yet covering the size of hidden units in most of the literature (unit size multiple of 4)\n",
    "            hidden_units_sample_space.append(i)\n",
    "    \n",
    "    while(len(sample_architectures) != sample_size):\n",
    "        #generating the number of hidden layers\n",
    "        hidden_layer = np.random.randint(low = hidden_layers_rng[0], high = hidden_layers_rng[1])\n",
    "        hidden_units = []\n",
    "        \n",
    "        #randomizing the variable and constant hidden units size mode\n",
    "        if mixed_mode:\n",
    "            num_hidden_units = np.random.choice(['constant','variable'])\n",
    "        \n",
    "        if hidden_units_size == 'variable': \n",
    "            #generating variable size hidden units based on number of hidden layers \n",
    "            for num_layer in range(hidden_layer):\n",
    "                hidden_unit = np.random.choice(hidden_units_sample_space)\n",
    "                hidden_units.append(hidden_unit)\n",
    "        elif hidden_units_size == 'constant':\n",
    "            #generating constant number of hidden units based on the number of hidden layers\n",
    "            hidden_unit = np.random.choice(hidden_units_sample_space)\n",
    "            hidden_units = [hidden_unit for x in range(hidden_layer)]\n",
    "\n",
    "        else:\n",
    "            raise ValueError(\"Size of hidden units can be variable or constant only.\")\n",
    "        \n",
    "        #making sure no duplicate architecture is present in the sample\n",
    "        if hidden_units not in sample_architectures:\n",
    "            sample_architectures.append(sorted(hidden_units,reverse = True))\n",
    "        \n",
    "    assert(len(sample_architectures) == sample_size) , 'Samples less than required'\n",
    "    \n",
    "    return sample_architectures"
   ]
  },
  {
   "cell_type": "code",
   "execution_count": 7,
   "metadata": {},
   "outputs": [],
   "source": [
    "def sample_hyperParams(hParam_type, rng, sample_size):\n",
    "\n",
    "    sample = []\n",
    "    \n",
    "    lower_range = rng[0]\n",
    "    higher_range = rng[1]\n",
    "    \n",
    "    \n",
    "    for i in range(sample_size):\n",
    "        if hParam_type == \"learning_rate\":\n",
    "            r = np.random.uniform(lower_range,higher_range)\n",
    "            p = 10 ** r\n",
    "            sample.append(p)\n",
    "        elif hParam_type == \"minibatch_size\":\n",
    "            s = np.random.randint(low = lower_range, high = higher_range)\n",
    "            sample.append(s)\n",
    "        elif hParam_type == \"keep_probs\":\n",
    "            s = np.random.choice(rng)\n",
    "            sample.append(s)\n",
    "        else:\n",
    "            raise ValueError(\"Sampling of only learning rate and minibatch size is possible for now\")\n",
    "            \n",
    "    assert(len(sample) == sample_size)\n",
    "    \n",
    "    return sample\n"
   ]
  },
  {
   "cell_type": "code",
   "execution_count": null,
   "metadata": {},
   "outputs": [],
   "source": [
    "def test_sample_network_architecture():\n",
    "    hidden_layers_rng = [1,3]\n",
    "    hidden_units_rng = [200,1000]\n",
    "    sample_size = 10\n",
    "    archs = sample_network_architecture(hidden_layers_rng, hidden_units_rng, sample_size, mixed_mode = True)\n",
    "    \n",
    "    for arch in archs:\n",
    "        assert(len(arch) < hidden_layers_rng[1] and len(arch) >= hidden_layers_rng[0]),\"Test Failed. Hidden layer out of range.\"\n",
    "        assert((np.asarray(arch) < hidden_units_rng[1]).all() and (np.asarray(arch) >= hidden_units_rng[0]).all()), \"Test Failed. Hidden units size out of range.\"\n",
    "\n",
    "    print(\"Test Successful.\")\n",
    "    \n",
    "# test_sample_network_architecture()"
   ]
  },
  {
   "cell_type": "code",
   "execution_count": null,
   "metadata": {},
   "outputs": [],
   "source": [
    "def test_sample_hyperParams():\n",
    "    batch_rng = [16,200]\n",
    "    rate_rng = [-5,-1]\n",
    "    probs_range = [0.5,0.6,0.7,0.8,0.9]\n",
    "    sample_size = 10\n",
    "    batch = sample_hyperParams(hParam_type = \"minibatch_size\", rng = batch_rng, sample_size = sample_size)\n",
    "    rate = sample_hyperParams(hParam_type = \"learning_rate\", rng = rate_rng, sample_size = sample_size)\n",
    "    probs = sample_hyperParams(hParam_type = \"keep_probs\", rng = probs_range, sample_size = sample_size)\n",
    "    \n",
    "    \n",
    "    assert((np.asarray(batch) < batch_rng[1]).all() and (np.asarray(batch) >= batch_rng[0]).all()), \"Test Failed. minibatch size out of range.\"\n",
    "    assert((np.asarray(rate) < (10 ** rate_rng[1])).all() and (np.asarray(batch) >= (10 **rate_rng[0])).all()), \"Test Failed. learning rate out of range.\"\n",
    "    assert((np.asarray(probs) < 1).all() and (np.asarray(probs) >= 0.5).all()), \"Test Failed. keep_probs out of range.\"\n",
    "    \n",
    "    \n",
    "    \n",
    "    print(\"Test Successful.\")\n",
    "    \n",
    "# test_sample_hyperParams()"
   ]
  },
  {
   "cell_type": "markdown",
   "metadata": {},
   "source": [
    "## Visualizing Search Results"
   ]
  },
  {
   "cell_type": "code",
   "execution_count": 8,
   "metadata": {},
   "outputs": [],
   "source": [
    "def visualize_new_range(samples, score, best_comb, range_new, range_old):\n",
    "    \n",
    "    learning_rate = samples[\"learning_rate\"]\n",
    "    minibatch_size = samples[\"minibatch_size\"]\n",
    "    \n",
    "    lr_rng_new = range_new[\"learning rate\"]\n",
    "    lr_rng_old = range_old[\"learning rate\"]\n",
    "    \n",
    "    mbs_rng_new = range_new[\"minibatch size\"]\n",
    "    mbs_rng_old = range_old[\"minibatch size\"]\n",
    "    \n",
    "    lr_min = 10 ** lr_rng_new[0]\n",
    "    lr_max = 10 ** lr_rng_new[1]\n",
    "    \n",
    "    # plt.style.use('seaborn')\n",
    "    fig, ax = plt.subplots(nrows = 1, ncols = 1, figsize=(10,7))\n",
    "    #setting ylim based on old range\n",
    "    ylim_max = 10 ** (int(lr_rng_old[1]))\n",
    "    if int(lr_rng_old[0]) == lr_rng_old[0]:\n",
    "        ylim_min = 10 ** (int(lr_rng_old[0])) \n",
    "    else:\n",
    "        ylim_min = 10 ** (int(lr_rng_old[0])-1) \n",
    "    \n",
    "   \n",
    "    ax.set_ylim(top = ylim_max, bottom = ylim_min)\n",
    "    \n",
    "    ax.scatter(minibatch_size,learning_rate, color = \"gray\",alpha=0.80)\n",
    "    ax.set_yscale('log')\n",
    "    ax.grid(color='grey', linestyle='-', linewidth=0.25, alpha=0.5)\n",
    "    \n",
    "    ax.set_title(\"Random Search: Learning Rate Vs Minibatch Size\",fontsize=24,pad = 20)\n",
    "    ax.set_xlabel(\"Minibatch Size\", fontsize = 16)\n",
    "    ax.set_ylabel(\"Learning Rate (log Scale)\", fontsize = 16)\n",
    "    \n",
    "    rec = Rectangle((mbs_rng_new[0], lr_min), mbs_rng_new[1] - mbs_rng_new[0], lr_max - lr_min, fill=False, edgecolor=\"green\")\n",
    "    ax.add_patch(rec)\n",
    "\n",
    "    c = Ellipse((best_comb[2],best_comb[1]),width = 30,  height =0.30 * best_comb[1], edgecolor='green', fill = False, alpha=0.5)\n",
    "    ax.add_patch(c)\n",
    "    ax.scatter(best_comb[2],best_comb[1], color = \"crimson\",alpha=1)\n",
    "\n",
    "\n",
    "    # Add labels to the plot\n",
    "    style = dict(size=10, color='blue', alpha = 0.8)\n",
    "    ax.text(mbs_rng_new[0], lr_max + 0.1*lr_max, \"New Search Range \", ha='left', **style)\n",
    "    ax.text(best_comb[2] + 25, best_comb[1] , \"Best Choice \", ha='left', **style)\n",
    "\n",
    "    \n",
    "    plt.show()\n"
   ]
  },
  {
   "cell_type": "code",
   "execution_count": 9,
   "metadata": {},
   "outputs": [],
   "source": [
    "def visualize_layer_distribution(score,sample):\n",
    "    hidden_layers = []\n",
    "\n",
    "    for i in range(len(score)):\n",
    "        hidden_layers.append(len(sample[\"architecture\"][i]))\n",
    "\n",
    "    unique, counts = np.unique(hidden_layers, return_counts=True)\n",
    "\n",
    "    fig, axes = plt.subplots(figsize=(10, 6))\n",
    "    rects = axes.bar(unique, counts)\n",
    "\n",
    "    axes.set_xticks(unique)\n",
    "    axes.set_title(\"Distribution of Samples based on Hidden Layers\", fontsize=16)\n",
    "    axes.set_xlabel(\" Number Hidden Layers\", fontsize=12)\n",
    "    axes.set_ylabel(\"Samples\", fontsize=12)\n",
    "\n",
    "    for rect in rects:\n",
    "            height = rect.get_height()\n",
    "            axes.annotate('{}'.format(height),\n",
    "                        xy=(rect.get_x() + rect.get_width() / 2, height),\n",
    "                        xytext=(0, 2),  # 3 points vertical offset\n",
    "                        textcoords=\"offset points\",\n",
    "                        ha='center', va='bottom')\n",
    "\n",
    "    plt.show()"
   ]
  },
  {
   "cell_type": "markdown",
   "metadata": {},
   "source": [
    "## Generating New Search Space"
   ]
  },
  {
   "cell_type": "code",
   "execution_count": 10,
   "metadata": {},
   "outputs": [],
   "source": [
    "def calculate_new_search_space(score, samples, search_summary, top_best = 10):\n",
    "    learning_rate = samples[\"learning_rate\"]\n",
    "    minibatch_size = samples[\"minibatch_size\"]\n",
    "    architectures = samples[\"architecture\"]\n",
    "    keep_prob = samples[\"keep_probs\"]\n",
    "    \n",
    "    good_scs = []\n",
    "    good_lrs = []\n",
    "    good_mbs = []\n",
    "    good_archs = []\n",
    "    good_keep_probs = []\n",
    "\n",
    "    #getting the top best combinations of the hyperparameters based on score\n",
    "    sorted_score_index = [b[0] for b in sorted(enumerate(score),key=lambda i:i[1], reverse = True)]\n",
    "    good_scs = [np.squeeze(score[i]) for i in sorted_score_index[:top_best]]\n",
    "    good_lrs = [learning_rate[i] for i in sorted_score_index[:top_best]]\n",
    "    good_mbs = [minibatch_size[i] for i in sorted_score_index[:top_best]]\n",
    "    good_archs = [architectures[i] for i in sorted_score_index[:top_best]]\n",
    "    good_keep_probs = [keep_prob[i] for i in sorted_score_index[:top_best]]\n",
    "    \n",
    "    #calculating the new search range in log form after expanding the reduced search space by 50%\n",
    "    lr_rng_new = [np.log10(0.50 * min(good_lrs) ), np.log10(1.5 * max(good_lrs))] \n",
    "\n",
    "    #calculating the new search range for minibatch size by expanding the reduced search space 64\n",
    "    mbs_rng_new = [ int(0.6 * min(good_mbs)), max(good_mbs) + 64] \n",
    "        \n",
    "    #calculating new range for hidden layers and hidden units\n",
    "    flatten_arch = []\n",
    "    hidden_layers = []\n",
    "    for arch in good_archs:\n",
    "        flatten_arch.extend(arch)\n",
    "        hidden_layers.append(len(arch))\n",
    "        \n",
    "    new_hidden_layers = [min(hidden_layers), max(hidden_layers) + 1] # 1 is added because it will be exclusive in next search cycle\n",
    "    new_hidden_units = [min(flatten_arch) - 50, max(flatten_arch) + 50] #expanding the reduced search space 50\n",
    "        \n",
    "    #we keep the keep prob range constant as it is the predefined value which may have different effect for later choosen models\n",
    "        \n",
    "    #best hyper parameter combinations\n",
    "    best_comb = [good_scs[0], good_lrs[0], good_mbs[0], good_keep_probs[0], good_archs[0]]\n",
    "    \n",
    "    search_param_new = {\"hidden layers\":new_hidden_layers, \n",
    "                        \"hidden units\":new_hidden_units,\n",
    "                        \"learning rate\":lr_rng_new,\n",
    "                        \"minibatch size\":mbs_rng_new,\n",
    "                        \"keep probs\": keep_prob   \n",
    "                        }\n",
    "\n",
    "    if search_summary == True:\n",
    "        print(\"Top \" + str(top_best) + \" Best Architectures\\n\")\n",
    "        print(\"================+================+================+=============+===============+=========================\")\n",
    "        print(\" Validation Acc | Learning Rate  | Minibatch Size | Keep_probs  | Hidden Layers | Hidden Units \")\n",
    "        print(\"================+================+================+=============+===============+=========================\")\n",
    "\n",
    "        for i in range(top_best):\n",
    "            print(f\" {good_scs[i]:.5f}\\t| {good_lrs[i]:.6f}\\t | {good_mbs[i]}\\t\\t  | {good_keep_probs[i]}\\t\\t| {len(good_archs[i])}\\t\\t| {str(good_archs[i])}\")\n",
    "\n",
    "        print(\"================+================+================+=============+===============+=========================\")\n",
    "        \n",
    "        print(\"\\nNew Search Space:\") \n",
    "        print(f\"\\tLearning Rate: [{10 ** lr_rng_new[0]:.6f}, {10 ** lr_rng_new[1]:.6f}], log range: [10e{lr_rng_new[0]:.2f}, 10e{lr_rng_new[1]:.2f}]\")\n",
    "        print(f\"\\tMinibatch Size: {str(mbs_rng_new)}\")\n",
    "        print(f\"\\tHidden Layers: {str(new_hidden_layers)}\")\n",
    "        print(f\"\\tHidden Units: {str(new_hidden_units)}\")\n",
    "        \n",
    "\n",
    "        print(f\"\\nBest Hyper Params with score {best_comb[0]:.5f}:\")\n",
    "        print(f\"\\tBest Architcture: {str(best_comb[4])}\")\n",
    "        print(f\"\\tLearning Rate: {best_comb[1]:.6f}\")\n",
    "        print(f\"\\tMinibatch Size: {best_comb[2]}\")\n",
    "        print(f\"\\tKeep Probs: {best_comb[3]}\")\n",
    "        \n",
    "    return best_comb, search_param_new\n"
   ]
  },
  {
   "cell_type": "markdown",
   "metadata": {},
   "source": [
    "## Random Search Implementation"
   ]
  },
  {
   "cell_type": "code",
   "execution_count": 12,
   "metadata": {},
   "outputs": [],
   "source": [
    "def random_search(search_param, search_type = \"coarse\", sample_size = 100, search_summary = True):\n",
    "    \n",
    "    hidden_layers_rng = search_param[\"hidden layers\"]\n",
    "    hidden_units_rng = search_param[\"hidden units\"]\n",
    "    learning_rate_rng = search_param[\"learning rate\"]\n",
    "    minibatch_size_rng = search_param[\"minibatch size\"]\n",
    "    keep_probs_rng = search_param[\"keep probs\"]\n",
    "    \n",
    "    #generating Samples for for search\n",
    "    architecture_samples = sample_network_architecture(hidden_layers_rng, hidden_units_rng, sample_size = sample_size, mixed_mode = True)\n",
    "    minibatch_size_samples = sample_hyperParams(hParam_type = \"minibatch_size\", rng = minibatch_size_rng, sample_size = sample_size)\n",
    "    learning_rates_samples = sample_hyperParams(hParam_type = \"learning_rate\", rng = learning_rate_rng, sample_size = sample_size)\n",
    "    keep_probs_samples = sample_hyperParams(hParam_type = \"keep_probs\", rng = keep_probs_rng, sample_size = sample_size)\n",
    "        \n",
    "    samples = {\"architecture\": architecture_samples,\n",
    "               \"learning_rate\":learning_rates_samples,\n",
    "               \"minibatch_size\":minibatch_size_samples,\n",
    "               \"keep_probs\":keep_probs_samples\n",
    "            }\n",
    "    \n",
    "    score = []\n",
    "\n",
    "    if search_type == \"coarse\":\n",
    "        epoch = 1\n",
    "    elif search_type == \"fine\":\n",
    "        epoch = 2\n",
    "    elif search_type == \"detail\":\n",
    "        epoch = 3\n",
    "    else:\n",
    "        raise ValueError(\"Search Type not identified. Must be 'coarse', 'fine', or 'detail'\")\n",
    "    \n",
    "    begin = time.time()\n",
    "    for i in range(sample_size):\n",
    "        print(f\"\\nSample: {i+1}/{sample_size} -- Architecture:{str(architecture_samples[i])} | Learning rate: {learning_rates_samples[i]:.6f}\"\n",
    "              +f\" | Minibatch size: {minibatch_size_samples[i]} | keep_probs: {keep_probs_samples[i]}\")\n",
    "        print(\"===========================================================================================================================\")\n",
    "\n",
    "        kp = [keep_probs_samples[i] for x in range(len(architecture_samples[i]))]\n",
    "\n",
    "        layers_dim = init_layers(784, 10, hidden_layers = architecture_samples[i])\n",
    "        hyperParams = init_hyperParams(alpha = learning_rates_samples[i], num_epoch = epoch, minibatch_size = minibatch_size_samples[i], keep_probs = kp)\n",
    "        training_data = (train_x_norm, train_y_encoded)\n",
    "        validation_data = (dev_x_norm, dev_y_encoded)\n",
    "        history = train(training_data,validation_data,layers_dim, hyperParams, initialization = \"he\", optimizer = 'adam',regularizer = \"dropout\", verbose = 3)\n",
    "        \n",
    "        val_acc = max(history[\"val_accuracy\"])\n",
    "        score.append(val_acc)\n",
    "        \n",
    "#         wandb.log({\"Sample\":i+1,\n",
    "#                    \"Validation Accuracy\":val_acc,\n",
    "#                    \"Learning Rate\":learning_rates_samples[i],\n",
    "#                    \"Minibatch Size\":minibatch_size_samples[i],\n",
    "#                    \"Keep Probs\":keep_probs_samples[i],\n",
    "#                    \"Architecture\":architecture_samples[i],\n",
    "#                    \"# of Hidden Layers\":len(architecture_samples[i])})\n",
    "\n",
    "    hrs, mins, secs , ms = convert_time((time.time() - begin)*1000)\n",
    "    \n",
    "    print(\"\\n\\n %s Total Search Time = %dhr %dmins %dsecs %.2fms %s \\n\\n\"%(('*' * 20),hrs, mins, secs, ms,('*' * 20)))\n",
    "    \n",
    "    \n",
    "    #generating the new search space based on the top best score found\n",
    "    best_comb, search_param_new = calculate_new_search_space(score, samples, search_summary = search_summary, top_best = 5)\n",
    "    \n",
    "#     wandb.log({\"Best Hyperparameters\":best_comb,\n",
    "#                \"Current Search Ranges\":search_param,\n",
    "#                \"New Search Ranges\":search_param_new})\n",
    "    \n",
    "    \n",
    "    return score, samples, best_comb, search_param_new"
   ]
  },
  {
   "cell_type": "markdown",
   "metadata": {},
   "source": [
    "### Coarse Search"
   ]
  },
  {
   "cell_type": "markdown",
   "metadata": {},
   "source": [
    "run_coarse = wandb.init(project=\"handwritten-digit-recognition\",name = \"Hyperparameter Tuning - Coarse Search\")"
   ]
  },
  {
   "cell_type": "code",
   "execution_count": 14,
   "metadata": {
    "scrolled": true
   },
   "outputs": [
    {
     "name": "stdout",
     "output_type": "stream",
     "text": [
      "\n",
      "Sample: 1/6 -- Architecture:[2516, 592] | Learning rate: 0.000029 | Minibatch size: 680 | keep_probs: 0.5\n",
      "===========================================================================================================================\n",
      "Training The Model...\n",
      "\n",
      "Epoch 1/1\n",
      "19/19 [==================== 100%] - 4.64s 243ms/step | loss: 2.0737 | acc: 0.3580 | val_loss: 1.8360 | val_acc: 0.5431\n",
      "\n",
      "Total Training Time = 0hr 0mins 5secs 862.12ms\n",
      "\n",
      "Sample: 2/6 -- Architecture:[2708, 2604, 1784] | Learning rate: 0.002485 | Minibatch size: 391 | keep_probs: 0.6\n",
      "===========================================================================================================================\n",
      "Training The Model...\n",
      "\n",
      "Epoch 1/1\n",
      "33/33 [==================== 100%] - 27.29s 826ms/step | loss: 1.2887 | acc: 0.7670 | val_loss: 0.2648 | val_acc: 0.9191\n",
      "\n",
      "Total Training Time = 0hr 0mins 32secs 721.42ms\n",
      "\n",
      "Sample: 3/6 -- Architecture:[2740, 2592, 2360, 1584] | Learning rate: 0.000016 | Minibatch size: 610 | keep_probs: 0.8\n",
      "===========================================================================================================================\n",
      "Training The Model...\n",
      "\n",
      "Epoch 1/1\n",
      "21/21 [==================== 100%] - 35.06s 1669ms/step | loss: 1.8094 | acc: 0.5389 | val_loss: 1.4000 | val_acc: 0.7431\n",
      "\n",
      "Total Training Time = 0hr 0mins 43secs 157.53ms\n",
      "\n",
      "Sample: 4/6 -- Architecture:[1692] | Learning rate: 0.000223 | Minibatch size: 19 | keep_probs: 0.7\n",
      "===========================================================================================================================\n",
      "Training The Model...\n",
      "\n",
      "Epoch 1/1\n",
      "672/672 [==================== 100%] - 23.59s 35ms/step | loss: 0.4458 | acc: 0.8848 | val_loss: 0.2901 | val_acc: 0.9173\n",
      "\n",
      "Total Training Time = 0hr 0mins 26secs 78.64ms\n",
      "\n",
      "Sample: 5/6 -- Architecture:[2360, 2272, 452] | Learning rate: 0.002314 | Minibatch size: 783 | keep_probs: 0.9\n",
      "===========================================================================================================================\n",
      "Training The Model...\n",
      "\n",
      "Epoch 1/1\n",
      "17/17 [==================== 100%] - 14.64s 861ms/step | loss: 1.7319 | acc: 0.6555 | val_loss: 0.4433 | val_acc: 0.8653\n",
      "\n",
      "Total Training Time = 0hr 0mins 18secs 725.76ms\n",
      "\n",
      "Sample: 6/6 -- Architecture:[2616, 760, 652, 556] | Learning rate: 0.000030 | Minibatch size: 826 | keep_probs: 0.6\n",
      "===========================================================================================================================\n",
      "Training The Model...\n",
      "\n",
      "Epoch 1/1\n",
      "16/16 [==================== 100%] - 8.85s 553ms/step | loss: 2.1615 | acc: 0.2818 | val_loss: 2.0422 | val_acc: 0.4093\n",
      "\n",
      "Total Training Time = 0hr 0mins 11secs 286.04ms\n",
      "\n",
      "\n",
      " ******************** Total Search Time = 0hr 2mins 20secs 68.98ms ******************** \n",
      "\n",
      "\n",
      "Top 5 Best Architectures\n",
      "\n",
      "================+================+================+=============+===============+=========================\n",
      " Validation Acc | Learning Rate  | Minibatch Size | Keep_probs  | Hidden Layers | Hidden Units \n",
      "================+================+================+=============+===============+=========================\n",
      " 0.91911\t| 0.002485\t | 391\t\t  | 0.6\t\t| 3\t\t| [2708, 2604, 1784]\n",
      " 0.91733\t| 0.000223\t | 19\t\t  | 0.7\t\t| 1\t\t| [1692]\n",
      " 0.86533\t| 0.002314\t | 783\t\t  | 0.9\t\t| 3\t\t| [2360, 2272, 452]\n",
      " 0.74311\t| 0.000016\t | 610\t\t  | 0.8\t\t| 4\t\t| [2740, 2592, 2360, 1584]\n",
      " 0.54311\t| 0.000029\t | 680\t\t  | 0.5\t\t| 2\t\t| [2516, 592]\n",
      "================+================+================+=============+===============+=========================\n",
      "\n",
      "New Search Space:\n",
      "\tLearning Rate: [0.000008, 0.003727], log range: [10e-5.10, 10e-2.43]\n",
      "\tMinibatch Size: [11, 847]\n",
      "\tHidden Layers: [1, 5]\n",
      "\tHidden Units: [402, 2790]\n",
      "\n",
      "Best Hyper Params with score 0.91911:\n",
      "\tBest Architcture: [2708, 2604, 1784]\n",
      "\tLearning Rate: 0.002485\n",
      "\tMinibatch Size: 391\n",
      "\tKeep Probs: 0.6\n"
     ]
    }
   ],
   "source": [
    "# greater value in the range are exclusive is exclusive\n",
    "search_param = {\"hidden layers\":[1,5], \n",
    "                \"hidden units\":[400,3000],\n",
    "                \"learning rate\":[-5,-1],\n",
    "                \"minibatch size\":[10,1000],\n",
    "                \"keep probs\": [0.5,0.6,0.7,0.8,0.9]   \n",
    "                }\n",
    "\n",
    "coarse_score, coarse_samples, coarse_best_comb, fine_search_param_new = random_search(search_param, search_type = \"coarse\", sample_size = 6)"
   ]
  },
  {
   "cell_type": "markdown",
   "metadata": {},
   "source": [
    "##### Sample Distribution based on hidden layers"
   ]
  },
  {
   "cell_type": "code",
   "execution_count": 15,
   "metadata": {},
   "outputs": [
    {
     "data": {
      "image/png": "[encoded data removed]",
      "text/plain": [
       "<Figure size 720x432 with 1 Axes>"
      ]
     },
     "metadata": {
      "needs_background": "light"
     },
     "output_type": "display_data"
    }
   ],
   "source": [
    "visualize_layer_distribution(score = coarse_score,sample = coarse_samples)"
   ]
  },
  {
   "cell_type": "markdown",
   "metadata": {},
   "source": [
    "#### New range for learning rate and minibatch size"
   ]
  },
  {
   "cell_type": "code",
   "execution_count": 16,
   "metadata": {},
   "outputs": [
    {
     "data": {
      "image/png": "[encoded data removed]",
      "text/plain": [
       "<Figure size 720x504 with 1 Axes>"
      ]
     },
     "metadata": {
      "needs_background": "light"
     },
     "output_type": "display_data"
    }
   ],
   "source": [
    "visualize_new_range(samples = coarse_samples, score = coarse_score, best_comb = coarse_best_comb, range_new = fine_search_param_new, range_old = search_param)"
   ]
  },
  {
   "cell_type": "markdown",
   "metadata": {},
   "source": [
    "run_coarse.finish()"
   ]
  },
  {
   "cell_type": "markdown",
   "metadata": {},
   "source": [
    "### Fine Search"
   ]
  },
  {
   "cell_type": "markdown",
   "metadata": {},
   "source": [
    "run_fine = wandb.init(project=\"handwritten-digit-recognition\",name = \"Hyperparameter Tuning - Fine Search\")"
   ]
  },
  {
   "cell_type": "code",
   "execution_count": 19,
   "metadata": {
    "scrolled": true
   },
   "outputs": [
    {
     "name": "stdout",
     "output_type": "stream",
     "text": [
      "\n",
      "Sample: 1/6 -- Architecture:[2556, 1416] | Learning rate: 0.000701 | Minibatch size: 277 | keep_probs: 0.6\n",
      "===========================================================================================================================\n",
      "Training The Model...\n",
      "\n",
      "Epoch 1/2\n",
      "47/47 [==================== 100%] - 10.34s 219ms/step | loss: 0.4270 | acc: 0.8727 | val_loss: 0.2692 | val_acc: 0.9218\n",
      "Epoch 2/2\n",
      "47/47 [==================== 100%] - 10.55s 224ms/step | loss: 0.1607 | acc: 0.9530 | val_loss: 0.2072 | val_acc: 0.9427\n",
      "\n",
      "Total Training Time = 0hr 0mins 25secs 56.96ms\n",
      "\n",
      "Sample: 2/6 -- Architecture:[1352, 948] | Learning rate: 0.000663 | Minibatch size: 646 | keep_probs: 0.8\n",
      "===========================================================================================================================\n",
      "Training The Model...\n",
      "\n",
      "Epoch 1/2\n",
      "20/20 [==================== 100%] - 4.83s 241ms/step | loss: 0.5874 | acc: 0.8400 | val_loss: 0.3384 | val_acc: 0.9044\n",
      "Epoch 2/2\n",
      "20/20 [==================== 100%] - 3.67s 183ms/step | loss: 0.2408 | acc: 0.9294 | val_loss: 0.2405 | val_acc: 0.9302\n",
      "\n",
      "Total Training Time = 0hr 0mins 10secs 862.49ms\n",
      "\n",
      "Sample: 3/6 -- Architecture:[2084] | Learning rate: 0.000154 | Minibatch size: 189 | keep_probs: 0.8\n",
      "===========================================================================================================================\n",
      "Training The Model...\n",
      "\n",
      "Epoch 1/2\n",
      "68/68 [==================== 100%] - 5.43s 79ms/step | loss: 0.9854 | acc: 0.7709 | val_loss: 0.5185 | val_acc: 0.8769\n",
      "Epoch 2/2\n",
      "68/68 [==================== 100%] - 5.76s 84ms/step | loss: 0.4022 | acc: 0.9001 | val_loss: 0.3723 | val_acc: 0.8978\n",
      "\n",
      "Total Training Time = 0hr 0mins 13secs 526.20ms\n",
      "\n",
      "Sample: 4/6 -- Architecture:[2312, 1792, 1044, 976] | Learning rate: 0.000056 | Minibatch size: 514 | keep_probs: 0.6\n",
      "===========================================================================================================================\n",
      "Training The Model...\n",
      "\n",
      "Epoch 1/2\n",
      "25/25 [==================== 100%] - 14.87s 594ms/step | loss: 1.8437 | acc: 0.5401 | val_loss: 1.4846 | val_acc: 0.7538\n",
      "Epoch 2/2\n",
      "25/25 [==================== 100%] - 14.99s 599ms/step | loss: 1.1431 | acc: 0.7794 | val_loss: 0.8825 | val_acc: 0.7973\n",
      "\n",
      "Total Training Time = 0hr 0mins 37secs 189.22ms\n",
      "\n",
      "Sample: 5/6 -- Architecture:[1424, 1400, 1120] | Learning rate: 0.000357 | Minibatch size: 130 | keep_probs: 0.6\n",
      "===========================================================================================================================\n",
      "Training The Model...\n",
      "\n",
      "Epoch 1/2\n",
      "99/99 [==================== 100%] - 14.99s 151ms/step | loss: 0.5243 | acc: 0.8545 | val_loss: 0.2965 | val_acc: 0.9124\n",
      "Epoch 2/2\n",
      "99/99 [==================== 100%] - 16.11s 162ms/step | loss: 0.2030 | acc: 0.9389 | val_loss: 0.2146 | val_acc: 0.9409\n",
      "\n",
      "Total Training Time = 0hr 0mins 36secs 58.13ms\n",
      "\n",
      "Sample: 6/6 -- Architecture:[2772, 2640, 1268, 1028] | Learning rate: 0.000535 | Minibatch size: 553 | keep_probs: 0.8\n",
      "===========================================================================================================================\n",
      "Training The Model...\n",
      "\n",
      "Epoch 1/2\n",
      "24/24 [==================== 100%] - 22.73s 947ms/step | loss: 0.6317 | acc: 0.8121 | val_loss: 0.3770 | val_acc: 0.8836\n",
      "Epoch 2/2\n",
      "24/24 [==================== 100%] - 24.29s 1012ms/step | loss: 0.2024 | acc: 0.9354 | val_loss: 0.2055 | val_acc: 0.9409\n",
      "\n",
      "Total Training Time = 0hr 0mins 58secs 79.60ms\n",
      "\n",
      "\n",
      " ******************** Total Search Time = 0hr 3mins 2secs 456.96ms ******************** \n",
      "\n",
      "\n",
      "Top 5 Best Architectures\n",
      "\n",
      "================+================+================+=============+===============+=========================\n",
      " Validation Acc | Learning Rate  | Minibatch Size | Keep_probs  | Hidden Layers | Hidden Units \n",
      "================+================+================+=============+===============+=========================\n",
      " 0.94267\t| 0.000701\t | 277\t\t  | 0.6\t\t| 2\t\t| [2556, 1416]\n",
      " 0.94089\t| 0.000357\t | 130\t\t  | 0.6\t\t| 3\t\t| [1424, 1400, 1120]\n",
      " 0.94089\t| 0.000535\t | 553\t\t  | 0.8\t\t| 4\t\t| [2772, 2640, 1268, 1028]\n",
      " 0.93022\t| 0.000663\t | 646\t\t  | 0.8\t\t| 2\t\t| [1352, 948]\n",
      " 0.89778\t| 0.000154\t | 189\t\t  | 0.8\t\t| 1\t\t| [2084]\n",
      "================+================+================+=============+===============+=========================\n",
      "\n",
      "New Search Space:\n",
      "\tLearning Rate: [0.000077, 0.001052], log range: [10e-4.11, 10e-2.98]\n",
      "\tMinibatch Size: [78, 710]\n",
      "\tHidden Layers: [1, 5]\n",
      "\tHidden Units: [898, 2822]\n",
      "\n",
      "Best Hyper Params with score 0.94267:\n",
      "\tBest Architcture: [2556, 1416]\n",
      "\tLearning Rate: 0.000701\n",
      "\tMinibatch Size: 277\n",
      "\tKeep Probs: 0.6\n"
     ]
    }
   ],
   "source": [
    "fine_score, fine_samples, fine_best_comb, detailed_search_param_new = random_search(fine_search_param_new, search_type = \"fine\", sample_size = 6)"
   ]
  },
  {
   "cell_type": "markdown",
   "metadata": {},
   "source": [
    "##### Sample Distribution based on hidden layers"
   ]
  },
  {
   "cell_type": "code",
   "execution_count": null,
   "metadata": {},
   "outputs": [],
   "source": [
    "visualize_layer_distribution(score = fine_score,sample = fine_samples)"
   ]
  },
  {
   "cell_type": "markdown",
   "metadata": {},
   "source": [
    "#### New range for learning rate and minibatch size"
   ]
  },
  {
   "cell_type": "code",
   "execution_count": null,
   "metadata": {},
   "outputs": [],
   "source": [
    "visualize_new_range(samples = fine_samples, score = fine_score, best_comb = fine_best_comb, range_new = detailed_search_param_new, range_old = fine_search_param_new)"
   ]
  },
  {
   "cell_type": "markdown",
   "metadata": {},
   "source": [
    "run_fine.finish()"
   ]
  },
  {
   "cell_type": "markdown",
   "metadata": {},
   "source": [
    "### Detailed Search"
   ]
  },
  {
   "cell_type": "markdown",
   "metadata": {},
   "source": [
    "run_detail = wandb.init(project=\"handwritten-digit-recognition\",name = \"Hyperparameter Tuning - Detail Search\")"
   ]
  },
  {
   "cell_type": "code",
   "execution_count": null,
   "metadata": {
    "scrolled": true
   },
   "outputs": [],
   "source": [
    "detailed_score, detailed_samples, detailed_best_comb,search_param_new = random_search(detailed_search_param_new, search_type = \"fine\", sample_size = 6)"
   ]
  },
  {
   "cell_type": "markdown",
   "metadata": {},
   "source": [
    "##### Sample Distribution based on hidden layers"
   ]
  },
  {
   "cell_type": "code",
   "execution_count": null,
   "metadata": {},
   "outputs": [],
   "source": [
    "visualize_layer_distribution(score = detailed_score,sample = detailed_samples)"
   ]
  },
  {
   "cell_type": "markdown",
   "metadata": {},
   "source": [
    "#### New range for learning rate and minibatch size"
   ]
  },
  {
   "cell_type": "code",
   "execution_count": null,
   "metadata": {},
   "outputs": [],
   "source": [
    "visualize_new_range(samples = detailed_samples, score = detailed_score, best_comb = detailed_best_comb, range_new = search_param_new, range_old = detailed_search_param_new)"
   ]
  },
  {
   "cell_type": "markdown",
   "metadata": {},
   "source": [
    "run_detail.finish()"
   ]
  },
  {
   "cell_type": "markdown",
   "metadata": {},
   "source": [
    "## Saving the Notebook"
   ]
  },
  {
   "cell_type": "code",
   "execution_count": null,
   "metadata": {},
   "outputs": [],
   "source": [
    "!jupyter-nbconvert --to html 'Hyperparameter Tuning.ipynb' --output Experiments/hyperparameter_tuning_1000_samples_complete_analysis.html "
   ]
  }
 ],
 "metadata": {
  "kernelspec": {
   "display_name": "Python 3",
   "language": "python",
   "name": "python3"
  },
  "language_info": {
   "codemirror_mode": {
    "name": "ipython",
    "version": 3
   },
   "file_extension": ".py",
   "mimetype": "text/x-python",
   "name": "python",
   "nbconvert_exporter": "python",
   "pygments_lexer": "ipython3",
   "version": "3.8.5"
  }
 },
 "nbformat": 4,
 "nbformat_minor": 4
}
