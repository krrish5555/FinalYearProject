{
 "cells": [
  {
   "cell_type": "markdown",
   "metadata": {},
   "source": [
    "## For running the notebook as Google Colab Instance"
   ]
  },
  {
   "cell_type": "code",
   "execution_count": null,
   "metadata": {},
   "outputs": [],
   "source": [
    "#mounting the google drive for accessing other necessary files\n",
    "from google.colab import drive\n",
    "drive.mount('/content/gdrive')"
   ]
  },
  {
   "cell_type": "code",
   "execution_count": null,
   "metadata": {},
   "outputs": [],
   "source": [
    "# Checking the available files in the \"Colab Notebooks\" folder of the google drive\n",
    "!ls /content/gdrive/My\\ Drive/Colab\\ Notebooks\n",
    "\n",
    "import sys\n",
    "\n",
    "#changing the current working directory to \"Colab Notebooks\" folder in the google drive\n",
    "sys.path.append('/content/gdrive/My Drive/Colab Notebooks')"
   ]
  },
  {
   "cell_type": "markdown",
   "metadata": {},
   "source": [
    "## For running the notebook as Kaggle Kernel"
   ]
  },
  {
   "cell_type": "markdown",
   "metadata": {},
   "source": [
    "change directory to the dataset where our custom scripts are uploaded\n",
    "\n",
    "> ``os.chdir(\"/kaggle/input/handwritten-digit-recognition\")``\n",
    "\n",
    "***handwritten-digit-recognition*** is simply a folder name. It can vary based on the dataset you create in kaggle while uploading the python scripts.\n",
    "\n",
    "\n",
    "load custom module or files or dataset\n",
    "\n",
    "> ``from  dataset import load_dataset, train_dev_split, prep_dataset`` <br>\n",
    "> ```from dataset import visualize_data_distribution, visualize_dataset```\n",
    "\n",
    "\n",
    "reset our working directory\n",
    "\n",
    "> ```os.chdir(\"/kaggle/working/\")```\n",
    "\n",
    "**NOTE:** The ***input directory*** is Read-Only. So, we must switch back to the ***working directory*** for performing any other operation that requires write access. Make sure this note book runs as a part of the dataset you create as said above because all the custom modules are uploaded there. \n"
   ]
  },
  {
   "cell_type": "markdown",
   "metadata": {},
   "source": [
    "## Importing Dependencies"
   ]
  },
  {
   "cell_type": "code",
   "execution_count": 1,
   "metadata": {},
   "outputs": [],
   "source": [
    "# Python Standard Libraries for importing data from binary file\n",
    "import time    #for calculating time\n",
    "\n",
    "#core packages\n",
    "import numpy as np\n",
    "import matplotlib.pyplot as plt\n",
    "\n",
    "# os.chdir(\"/kaggle/input/handwritten-digit-recognition\")\n",
    "\n",
    "\n",
    "#custom module\n",
    "from  dataset import load_dataset, train_dev_split, prep_dataset\n",
    "from dataset import visualize_data_distribution, visualize_dataset\n",
    "\n",
    "from ffnn import init_layers, init_hyperParams\n",
    "from ffnn import train, evaluate\n",
    "\n",
    "from ModelUtils import  convert_time\n",
    "from ModelUtils import save_model, load_model\n",
    "\n",
    "\n",
    "# # reset our working directory\n",
    "# os.chdir(\"/kaggle/working/\")\n",
    "\n",
    "\n",
    "np.random.seed(1)\n",
    "%matplotlib inline"
   ]
  },
  {
   "cell_type": "code",
   "execution_count": 2,
   "metadata": {},
   "outputs": [
    {
     "name": "stdout",
     "output_type": "stream",
     "text": [
      "Sample Size : 25%\n",
      "\n",
      "Data\t\t\t Datatype\t\t Dataset Size\n",
      "=================================================================\n",
      "Training Set Images:\t<class 'numpy.ndarray'>\t (15000, 28, 28)\n",
      "Training Set Labels:\t<class 'numpy.ndarray'>\t (15000, 1)\n",
      "Test Set Images:\t<class 'numpy.ndarray'>\t (2500, 28, 28)\n",
      "Test Set Labels:\t<class 'numpy.ndarray'>\t (2500, 1)\n",
      "=================================================================\n"
     ]
    }
   ],
   "source": [
    "dataset_size_in_per = 25\n",
    "\n",
    "train_x_orig, train_y_orig, test_x_orig, test_y_orig = load_dataset(dataset = \"mnist\", size_in_per = dataset_size_in_per)\n",
    "\n",
    "print(\"Sample Size : %d%%\\n\"%(dataset_size_in_per))\n",
    "print(\"Data\\t\\t\\t\",\"Datatype\\t\\t\",\"Dataset Size\")\n",
    "print(\"=================================================================\")\n",
    "print(\"Training Set Images:\\t\" + str(type(train_x_orig))+\"\\t\",str(train_x_orig.shape))\n",
    "print(\"Training Set Labels:\\t\" + str(type(train_y_orig))+\"\\t\",str(train_y_orig.shape))\n",
    "print(\"Test Set Images:\\t\" + str(type(test_x_orig))+\"\\t\",str(test_x_orig.shape))\n",
    "print(\"Test Set Labels:\\t\" + str(type(test_y_orig))+\"\\t\",str(test_y_orig.shape))\n",
    "print(\"=================================================================\")"
   ]
  },
  {
   "cell_type": "code",
   "execution_count": 3,
   "metadata": {},
   "outputs": [
    {
     "name": "stdout",
     "output_type": "stream",
     "text": [
      "Data\t\t\t\t Datatype\t\t Shape\n",
      "========================================================================\n",
      "Training Set Images:\t\t<class 'numpy.ndarray'>\t (12750, 28, 28)\n",
      "Training Set Labels:\t\t<class 'numpy.ndarray'>\t (12750, 1)\n",
      "Development Set Images:\t\t<class 'numpy.ndarray'>\t (2250, 28, 28)\n",
      "Development Set Labels:\t\t<class 'numpy.ndarray'>\t (2250, 1)\n",
      "========================================================================\n"
     ]
    }
   ],
   "source": [
    "train_x_split, train_y_split, dev_x_split, dev_y_split = train_dev_split(train_x_orig, train_y_orig)\n",
    "\n",
    "print(\"Data\\t\\t\\t\\t\",\"Datatype\\t\\t\",\"Shape\")\n",
    "print(\"========================================================================\")\n",
    "print(\"Training Set Images:\\t\\t\" + str(type(train_x_split))+\"\\t\",str(train_x_split.shape))\n",
    "print(\"Training Set Labels:\\t\\t\" + str(type(train_y_split))+\"\\t\",str(train_y_split.shape))\n",
    "print(\"Development Set Images:\\t\\t\" + str(type(dev_x_split))+\"\\t\",str(dev_x_split.shape))\n",
    "print(\"Development Set Labels:\\t\\t\" + str(type(dev_y_split))+\"\\t\",str(dev_y_split.shape))\n",
    "print(\"========================================================================\")\n"
   ]
  },
  {
   "cell_type": "code",
   "execution_count": 4,
   "metadata": {},
   "outputs": [
    {
     "name": "stdout",
     "output_type": "stream",
     "text": [
      "Data\t\t\t Before Processing\t After Processing\n",
      "=================================================================\n",
      "Training Set Images:\t(12750, 28, 28)\t\t(784, 12750)\n",
      "Training Set Labels:\t(12750, 1)\t\t(10, 12750)\n",
      "Dev Set Images:\t\t(2250, 28, 28)\t\t(784, 2250)\n",
      "Dev Set Labels:\t\t(2250, 1)\t\t(10, 2250)\n",
      "Test Set Images:\t(2500, 28, 28)\t\t(784, 2500)\n",
      "Test Set Labels:\t(2500, 1)\t\t(10, 2500)\n",
      "=================================================================\n"
     ]
    }
   ],
   "source": [
    "train_x_norm, train_y_encoded = prep_dataset(train_x_split, train_y_split, num_class = 10)\n",
    "dev_x_norm, dev_y_encoded= prep_dataset(dev_x_split, dev_y_split, num_class = 10)\n",
    "test_x_norm, test_y_encoded = prep_dataset(test_x_orig, test_y_orig, num_class = 10)\n",
    "\n",
    "print(\"Data\\t\\t\\t\",\"Before Processing\\t\",\"After Processing\")\n",
    "print(\"=================================================================\")\n",
    "print(\"Training Set Images:\\t\" + str(train_x_split.shape)+\"\\t\\t\"+ str(train_x_norm.shape))\n",
    "print(\"Training Set Labels:\\t\" + str(train_y_split.shape)+\"\\t\\t\"+ str(train_y_encoded.shape))\n",
    "print(\"Dev Set Images:\\t\\t\" + str(dev_x_split.shape)+\"\\t\\t\"+ str(dev_x_norm.shape))\n",
    "print(\"Dev Set Labels:\\t\\t\" + str(dev_y_split.shape)+\"\\t\\t\"+ str(dev_y_encoded.shape))\n",
    "print(\"Test Set Images:\\t\" + str(test_x_orig.shape)+\"\\t\\t\"+ str(test_x_norm.shape))\n",
    "print(\"Test Set Labels:\\t\" + str(test_y_orig.shape)+\"\\t\\t\"+ str(test_y_encoded.shape))\n",
    "print(\"=================================================================\")"
   ]
  },
  {
   "cell_type": "markdown",
   "metadata": {},
   "source": [
    "## Grid Search"
   ]
  },
  {
   "cell_type": "code",
   "execution_count": 12,
   "metadata": {},
   "outputs": [],
   "source": [
    "# #creating the hyper parameter grid\n",
    "# lr = [0.001, 0.01]\n",
    "# mbz = [64, 128]\n",
    "# for i in range(len(mbz)):\n",
    "#     for j in range(len(lr)):\n",
    "#         plt.scatter(mbz[i],lr[j], color = 'g')\n",
    "# plt.yscale('log')\n",
    "# plt.ylim(top = 10e-1, bottom = 10e-6)\n",
    "\n",
    "# plt.grid(alpha = 0.6)\n"
   ]
  },
  {
   "cell_type": "markdown",
   "metadata": {},
   "source": [
    "### Defining the search parameters"
   ]
  },
  {
   "cell_type": "code",
   "execution_count": 5,
   "metadata": {},
   "outputs": [],
   "source": [
    "architecture = [[1024], [1024, 512], [1024, 1024, 1024], [2048, 512, 256, 1024], [4096, 2048, 1024, 512, 256]]\n",
    "inits = [\"random\", \"he\"]\n",
    "# optimizers = [\"bgd\",\"mgd\", \"adam\"]\n",
    "# regularizers = [\"l2\", \"dropout\"]\n",
    "# keep_probs = [0.4,0.5,0.6,0.7,0.8]\n",
    "# hidden_units = [256,512,1024,2048,4096]\n",
    "# hidden_layers = [2,3,4,5,6]\n",
    "                \n",
    "# constants:\n",
    "#     learning rate: 0.01\n",
    "#     minibatch size: 64\n",
    "#     epoch: 10"
   ]
  },
  {
   "cell_type": "code",
   "execution_count": 6,
   "metadata": {},
   "outputs": [],
   "source": [
    "def grid_search(param1,param2, metric = \"acc\"):\n",
    "    \n",
    "    score = np.zeros((len(param1),len(param2)))\n",
    "    toc = time.time()\n",
    "    \n",
    "    for ind1, i in enumerate(param1):\n",
    "        print(\"\\nHidden Layers: \" + str(i))\n",
    "        print(\"==========================================================================================================\")\n",
    "        \n",
    "        for ind2, j in enumerate(param2):\n",
    "            print(\"\\nInitialization: \" + str(j))\n",
    "            print(\"-------------------------------\")\n",
    "            \n",
    "            layers_dim = init_layers(784, 10, hidden_layers = i)\n",
    "            \n",
    "            hyperParams = init_hyperParams(alpha = 0.01, num_epoch = 5, minibatch_size = 64, lambd = 0.7,keep_probs = [0.8,0.8])\n",
    "            history = train(train_x_norm, train_y_encoded, dev_x_norm, dev_y_encoded,layers_dim, hyperParams, initialization = j, optimizer = 'adam',regularizer = None, verbose = 3)\n",
    "            \n",
    "            if metric == \"acc\": \n",
    "                val_acc = history[\"val_accuracy\"][-1]\n",
    "                score[ind1,ind2] = val_acc\n",
    "                \n",
    "            elif metric == \"f1-score\":\n",
    "#                 params = history[\"parameters\"]\n",
    "#                 prediction_dev = predict(dev_x_norm, params, second_guess = False)\n",
    "#                 cm_dev = confusion_matrix(dev_y_split, prediction_dev)\n",
    "#                 _, macro_metrics, acc = model_metrics(cm_dev)\n",
    "#                 f1_score = macro_metrics[\"F1-Score\"]\n",
    "#                 score[ind1,ind2] = f1_score\n",
    "                pass\n",
    "                \n",
    "            else:\n",
    "                raise ValueError(\"Metric must be 'acc' or 'f1-score'\")\n",
    "\n",
    "        print(\"==========================================================================================================\")\n",
    "        \n",
    "    tic = time.time() # for calculating entire search time\n",
    "    hrs, mins, secs , ms = convert_time((tic - toc)*1000)\n",
    "    \n",
    "    print(\"\\n\\n*************************** Total Training Time = %dhr %dmins %dsecs %.2fms ***************************\"%(hrs, mins, secs, ms))\n",
    "    \n",
    "    return score"
   ]
  },
  {
   "cell_type": "code",
   "execution_count": 7,
   "metadata": {
    "scrolled": true
   },
   "outputs": [
    {
     "name": "stdout",
     "output_type": "stream",
     "text": [
      "\n",
      "Hidden Layers: [1024]\n",
      "==========================================================================================================\n",
      "\n",
      "Initialization: random\n",
      "-------------------------------\n",
      "Training The Model...\n",
      "\n",
      "Epoch 1/5\n",
      "200/200 [==================== 100%] - 3.85s 19ms/step | loss: 0.2489 | acc: 0.9264 | val_loss: 0.2327 | val_acc: 0.9298\n",
      "Epoch 2/5\n",
      "200/200 [==================== 100%] - 3.93s 19ms/step | loss: 0.0954 | acc: 0.9750 | val_loss: 0.2732 | val_acc: 0.9333\n",
      "Epoch 3/5\n",
      "200/200 [==================== 100%] - 3.74s 18ms/step | loss: 0.0625 | acc: 0.9829 | val_loss: 0.1991 | val_acc: 0.9538\n",
      "Epoch 4/5\n",
      "200/200 [==================== 100%] - 4.06s 20ms/step | loss: 0.0413 | acc: 0.9889 | val_loss: 0.2188 | val_acc: 0.9484\n",
      "Epoch 5/5\n",
      "200/200 [==================== 100%] - 4.35s 21ms/step | loss: 0.0265 | acc: 0.9928 | val_loss: 0.3590 | val_acc: 0.9409\n",
      "\n",
      "Total Training Time = 0hr 0mins 22secs 568.57ms\n",
      "\n",
      "Initialization: he\n",
      "-------------------------------\n",
      "Training The Model...\n",
      "\n",
      "Epoch 1/5\n",
      "200/200 [==================== 100%] - 4.72s 23ms/step | loss: 0.2582 | acc: 0.9267 | val_loss: 0.2245 | val_acc: 0.9342\n",
      "Epoch 2/5\n",
      "200/200 [==================== 100%] - 4.85s 24ms/step | loss: 0.0956 | acc: 0.9743 | val_loss: 0.2218 | val_acc: 0.9333\n",
      "Epoch 3/5\n",
      "200/200 [==================== 100%] - 4.18s 20ms/step | loss: 0.0657 | acc: 0.9823 | val_loss: 0.2106 | val_acc: 0.9436\n",
      "Epoch 4/5\n",
      "200/200 [==================== 100%] - 4.70s 23ms/step | loss: 0.0450 | acc: 0.9877 | val_loss: 0.2564 | val_acc: 0.9453\n",
      "Epoch 5/5\n",
      "200/200 [==================== 100%] - 4.04s 20ms/step | loss: 0.0350 | acc: 0.9908 | val_loss: 0.2987 | val_acc: 0.9440\n",
      "\n",
      "Total Training Time = 0hr 0mins 25secs 500.21ms\n",
      "==========================================================================================================\n",
      "\n",
      "Hidden Layers: [1024, 512]\n",
      "==========================================================================================================\n",
      "\n",
      "Initialization: random\n",
      "-------------------------------\n",
      "Training The Model...\n",
      "\n",
      "Epoch 1/5\n",
      "200/200 [==================== 100%] - 7.23s 36ms/step | loss: 0.3127 | acc: 0.9064 | val_loss: 0.2619 | val_acc: 0.9311\n",
      "Epoch 2/5\n",
      "200/200 [==================== 100%] - 7.48s 37ms/step | loss: 0.1351 | acc: 0.9612 | val_loss: 0.2476 | val_acc: 0.9253\n",
      "Epoch 3/5\n",
      "200/200 [==================== 100%] - 7.99s 39ms/step | loss: 0.0982 | acc: 0.9727 | val_loss: 0.2556 | val_acc: 0.9338\n",
      "Epoch 4/5\n",
      "200/200 [==================== 100%] - 7.42s 37ms/step | loss: 0.0716 | acc: 0.9793 | val_loss: 0.2327 | val_acc: 0.9444\n",
      "Epoch 5/5\n",
      "200/200 [==================== 100%] - 7.39s 36ms/step | loss: 0.0575 | acc: 0.9835 | val_loss: 0.2691 | val_acc: 0.9373\n",
      "\n",
      "Total Training Time = 0hr 0mins 42secs 163.50ms\n",
      "\n",
      "Initialization: he\n",
      "-------------------------------\n",
      "Training The Model...\n",
      "\n",
      "Epoch 1/5\n",
      "200/200 [==================== 100%] - 7.05s 35ms/step | loss: 0.3411 | acc: 0.9104 | val_loss: 0.2556 | val_acc: 0.9231\n",
      "Epoch 2/5\n",
      "200/200 [==================== 100%] - 7.15s 35ms/step | loss: 0.1261 | acc: 0.9654 | val_loss: 0.2477 | val_acc: 0.9333\n",
      "Epoch 3/5\n",
      "200/200 [==================== 100%] - 6.87s 34ms/step | loss: 0.0940 | acc: 0.9734 | val_loss: 0.2685 | val_acc: 0.9360\n",
      "Epoch 4/5\n",
      "200/200 [==================== 100%] - 8.34s 41ms/step | loss: 0.0807 | acc: 0.9780 | val_loss: 0.2739 | val_acc: 0.9333\n",
      "Epoch 5/5\n",
      "200/200 [==================== 100%] - 8.10s 40ms/step | loss: 0.0639 | acc: 0.9827 | val_loss: 0.3094 | val_acc: 0.9369\n",
      "\n",
      "Total Training Time = 0hr 0mins 42secs 71.72ms\n",
      "==========================================================================================================\n",
      "\n",
      "Hidden Layers: [1024, 1024, 1024]\n",
      "==========================================================================================================\n",
      "\n",
      "Initialization: random\n",
      "-------------------------------\n",
      "Training The Model...\n",
      "\n",
      "Epoch 1/5\n",
      "200/200 [==================== 100%] - 18.42s 92ms/step | loss: 0.4809 | acc: 0.8508 | val_loss: 0.3523 | val_acc: 0.9027\n",
      "Epoch 2/5\n",
      "200/200 [==================== 100%] - 17.86s 89ms/step | loss: 0.2052 | acc: 0.9410 | val_loss: 0.3041 | val_acc: 0.9133\n",
      "Epoch 3/5\n",
      "200/200 [==================== 100%] - 18.53s 92ms/step | loss: 0.1570 | acc: 0.9552 | val_loss: 0.2632 | val_acc: 0.9293\n",
      "Epoch 4/5\n",
      "200/200 [==================== 100%] - 17.82s 89ms/step | loss: 0.1349 | acc: 0.9613 | val_loss: 0.3323 | val_acc: 0.9244\n",
      "Epoch 5/5\n",
      "200/200 [==================== 100%] - 17.84s 89ms/step | loss: 0.1275 | acc: 0.9648 | val_loss: 0.2820 | val_acc: 0.9333\n",
      "\n",
      "Total Training Time = 0hr 1mins 39secs 381.70ms\n",
      "\n",
      "Initialization: he\n",
      "-------------------------------\n",
      "Training The Model...\n",
      "\n",
      "Epoch 1/5\n",
      "200/200 [==================== 100%] - 17.55s 87ms/step | loss: 0.6167 | acc: 0.8585 | val_loss: 0.4000 | val_acc: 0.8916\n",
      "Epoch 2/5\n",
      "200/200 [==================== 100%] - 17.36s 86ms/step | loss: 0.2202 | acc: 0.9386 | val_loss: 0.3357 | val_acc: 0.9102\n",
      "Epoch 3/5\n",
      "200/200 [==================== 100%] - 17.73s 88ms/step | loss: 0.1952 | acc: 0.9432 | val_loss: 0.3357 | val_acc: 0.9222\n",
      "Epoch 4/5\n",
      "200/200 [==================== 100%] - 17.75s 88ms/step | loss: 0.1665 | acc: 0.9537 | val_loss: 0.3759 | val_acc: 0.9076\n",
      "Epoch 5/5\n",
      "200/200 [==================== 100%] - 17.19s 85ms/step | loss: 0.1445 | acc: 0.9563 | val_loss: 0.2872 | val_acc: 0.9329\n",
      "\n",
      "Total Training Time = 0hr 1mins 36secs 550.36ms\n",
      "==========================================================================================================\n",
      "\n",
      "Hidden Layers: [2048, 512, 256, 1024]\n",
      "==========================================================================================================\n",
      "\n",
      "Initialization: random\n",
      "-------------------------------\n",
      "Training The Model...\n",
      "\n",
      "Epoch 1/5\n",
      "200/200 [==================== 100%] - 17.13s 85ms/step | loss: 0.8155 | acc: 0.6906 | val_loss: 0.5287 | val_acc: 0.8547\n",
      "Epoch 2/5\n",
      "200/200 [==================== 100%] - 17.13s 85ms/step | loss: 0.2431 | acc: 0.9329 | val_loss: 0.4292 | val_acc: 0.8840\n",
      "Epoch 3/5\n",
      "200/200 [==================== 100%] - 17.33s 86ms/step | loss: 0.1791 | acc: 0.9493 | val_loss: 0.3273 | val_acc: 0.9329\n",
      "Epoch 4/5\n",
      "200/200 [==================== 100%] - 17.03s 85ms/step | loss: 0.1822 | acc: 0.9472 | val_loss: 0.4353 | val_acc: 0.9018\n",
      "Epoch 5/5\n",
      "200/200 [==================== 100%] - 17.03s 85ms/step | loss: 0.1528 | acc: 0.9585 | val_loss: 0.2815 | val_acc: 0.9333\n",
      "\n",
      "Total Training Time = 0hr 1mins 34secs 740.77ms\n",
      "\n",
      "Initialization: he\n",
      "-------------------------------\n",
      "Training The Model...\n",
      "\n",
      "Epoch 1/5\n",
      "200/200 [==================== 100%] - 18.50s 92ms/step | loss: 0.5821 | acc: 0.8549 | val_loss: 0.3927 | val_acc: 0.8978\n",
      "Epoch 2/5\n",
      "200/200 [==================== 100%] - 16.40s 82ms/step | loss: 0.1851 | acc: 0.9484 | val_loss: 0.3629 | val_acc: 0.9036\n",
      "Epoch 3/5\n",
      "200/200 [==================== 100%] - 14.98s 74ms/step | loss: 0.1503 | acc: 0.9568 | val_loss: 0.3201 | val_acc: 0.9236\n",
      "Epoch 4/5\n",
      "200/200 [==================== 100%] - 14.52s 72ms/step | loss: 0.1339 | acc: 0.9643 | val_loss: 0.3477 | val_acc: 0.9262\n",
      "Epoch 5/5\n",
      "200/200 [==================== 100%] - 14.84s 74ms/step | loss: 0.1367 | acc: 0.9613 | val_loss: 0.5142 | val_acc: 0.9058\n",
      "\n",
      "Total Training Time = 0hr 1mins 27secs 834.53ms\n",
      "==========================================================================================================\n",
      "\n",
      "Hidden Layers: [4096, 2048, 1024, 512, 256]\n",
      "==========================================================================================================\n",
      "\n",
      "Initialization: random\n",
      "-------------------------------\n",
      "Training The Model...\n",
      "\n",
      "Epoch 1/5\n",
      "200/200 [==================== 100%] - 78.26s 391ms/step | loss: 0.9997 | acc: 0.6364 | val_loss: 0.5628 | val_acc: 0.8080\n",
      "Epoch 2/5\n",
      "200/200 [==================== 100%] - 81.91s 409ms/step | loss: 0.3281 | acc: 0.9053 | val_loss: 0.5754 | val_acc: 0.8471\n",
      "Epoch 3/5\n",
      "200/200 [==================== 100%] - 76.01s 380ms/step | loss: 0.2369 | acc: 0.9346 | val_loss: 0.4217 | val_acc: 0.9036\n",
      "Epoch 4/5\n",
      "200/200 [==================== 100%] - 70.48s 352ms/step | loss: 0.2094 | acc: 0.9445 | val_loss: 0.4871 | val_acc: 0.9098\n",
      "Epoch 5/5\n",
      "200/200 [==================== 100%] - 75.30s 376ms/step | loss: 0.1866 | acc: 0.9485 | val_loss: 0.3454 | val_acc: 0.9316\n",
      "\n",
      "Total Training Time = 0hr 6mins 49secs 795.33ms\n",
      "\n",
      "Initialization: he\n",
      "-------------------------------\n"
     ]
    },
    {
     "name": "stdout",
     "output_type": "stream",
     "text": [
      "Training The Model...\n",
      "\n",
      "Epoch 1/5\n"
     ]
    },
    {
     "name": "stderr",
     "output_type": "stream",
     "text": [
      "/home/befrenz/Sameer Kattel/Education/Course/CSIT/7th Semester/Project Work/HandWritten-Digit-Recognition-using-Deep-Learning/10. Extended/ModelUtils.py:121: RuntimeWarning: invalid value encountered in true_divide\n",
      "  A = np.divide(t, np.sum(t, axis=0))\n"
     ]
    },
    {
     "name": "stdout",
     "output_type": "stream",
     "text": [
      "200/200 [==================== 100%] - 69.01s 345ms/step | loss: nan | acc: 0.0970 | val_loss: nan | val_acc: 0.1040\n",
      "Epoch 2/5\n",
      "200/200 [==================== 100%] - 72.10s 360ms/step | loss: nan | acc: 0.0976 | val_loss: nan | val_acc: 0.1040\n",
      "Epoch 3/5\n",
      "200/200 [==================== 100%] - 77.16s 385ms/step | loss: nan | acc: 0.0970 | val_loss: nan | val_acc: 0.1040\n",
      "Epoch 4/5\n",
      "200/200 [==================== 100%] - 73.37s 366ms/step | loss: nan | acc: 0.0973 | val_loss: nan | val_acc: 0.1040\n",
      "Epoch 5/5\n",
      "200/200 [==================== 100%] - 69.82s 349ms/step | loss: nan | acc: 0.0967 | val_loss: nan | val_acc: 0.1040\n",
      "\n",
      "Total Training Time = 0hr 6mins 27secs 132.14ms\n",
      "==========================================================================================================\n",
      "\n",
      "\n",
      "*************************** Total Training Time = 0hr 21mins 49secs 388.16ms ***************************\n"
     ]
    }
   ],
   "source": [
    "score = grid_search(architecture,inits, metric = \"acc\")\n"
   ]
  },
  {
   "cell_type": "code",
   "execution_count": 8,
   "metadata": {},
   "outputs": [
    {
     "name": "stdout",
     "output_type": "stream",
     "text": [
      "[[0.94088889 0.944     ]\n",
      " [0.93733333 0.93688889]\n",
      " [0.93333333 0.93288889]\n",
      " [0.93333333 0.90577778]\n",
      " [0.93155556 0.104     ]]\n",
      "(array([0]), array([1]))\n"
     ]
    }
   ],
   "source": [
    "print(score)\n",
    "print(np.where(score == np.max(score)))"
   ]
  },
  {
   "cell_type": "code",
   "execution_count": 37,
   "metadata": {},
   "outputs": [
    {
     "data": {
      "image/png": "[encoded data removed]",
      "text/plain": [
       "<Figure size 576x576 with 2 Axes>"
      ]
     },
     "metadata": {
      "needs_background": "light"
     },
     "output_type": "display_data"
    }
   ],
   "source": [
    "fig, ax = plt.subplots(figsize=(8,8))\n",
    "im = plt.imshow(score,cmap=\"RdYlGn\") #RdYlGn, PiYG, Accent,Blues,viridis, YlGnBu\n",
    "fig.colorbar(im,ax=ax,fraction=0.045)\n",
    "\n",
    "m = len(architecture)\n",
    "n = len(inits)\n",
    "    \n",
    "ax.set_title(\"Result of Grid Search\",fontsize=24,pad = 20)\n",
    "ax.set_yticks(range(0,m))\n",
    "ax.set_xticks(range(0,n))\n",
    "ax.set_ylabel(\"Hidden Layers\", fontsize = 20)\n",
    "ax.set_xlabel(\"Initialization\", fontsize = 20)\n",
    "\n",
    "ax.set_yticklabels(architecture,fontsize=16,rotation=0)\n",
    "ax.set_xticklabels(inits,fontsize=16)\n",
    "\n",
    "#setting horizontal axes labeling to top.\n",
    "ax.xaxis.set_ticks_position('top')\n",
    "ax.xaxis.set_label_position('top')\n",
    "\n",
    "\n",
    "# Turn off all the ticks\n",
    "ax.tick_params(top=False,left=False)\n",
    "\n",
    "\n",
    "thres = [0.88, 0.96]\n",
    "\n",
    "for i in range(m):\n",
    "    for j in range(n):\n",
    "        ax.text(j, i, \"%.4f\"%(score[i, j]),\n",
    "                       ha=\"center\", va=\"center\", color=\"w\" if score[i,j] < thres[1] or score[i,j] > thres[0]  else \"black\")\n",
    "\n",
    "\n",
    "fig.tight_layout()\n",
    "plt.show()\n"
   ]
  },
  {
   "cell_type": "code",
   "execution_count": null,
   "metadata": {},
   "outputs": [],
   "source": []
  }
 ],
 "metadata": {
  "kernelspec": {
   "display_name": "Python 3",
   "language": "python",
   "name": "python3"
  },
  "language_info": {
   "codemirror_mode": {
    "name": "ipython",
    "version": 3
   },
   "file_extension": ".py",
   "mimetype": "text/x-python",
   "name": "python",
   "nbconvert_exporter": "python",
   "pygments_lexer": "ipython3",
   "version": "3.7.7"
  }
 },
 "nbformat": 4,
 "nbformat_minor": 4
}
