{
 "cells": [
  {
   "cell_type": "code",
   "execution_count": 1,
   "metadata": {},
   "outputs": [],
   "source": [
    "import tensorflow as tf\n",
    "from tensorflow import keras\n",
    "from tensorflow.keras import layers\n",
    "\n",
    "import numpy as np\n",
    "import matplotlib.pyplot as plt\n",
    "\n",
    "from  dataset import load_dataset, train_dev_split, prep_dataset\n"
   ]
  },
  {
   "cell_type": "markdown",
   "metadata": {},
   "source": [
    "## Using Custom Prepared Dataset"
   ]
  },
  {
   "cell_type": "code",
   "execution_count": 2,
   "metadata": {},
   "outputs": [],
   "source": [
    "dataset_size_in_per = 100\n",
    "\n",
    "train_x_orig, train_y_orig, test_x_orig, test_y_orig = load_dataset(dataset = \"mnist\", size_in_per = dataset_size_in_per)\n"
   ]
  },
  {
   "cell_type": "code",
   "execution_count": 3,
   "metadata": {},
   "outputs": [],
   "source": [
    "train_x_split, train_y_split, dev_x_split, dev_y_split = train_dev_split(train_x_orig, train_y_orig)\n"
   ]
  },
  {
   "cell_type": "code",
   "execution_count": 4,
   "metadata": {},
   "outputs": [
    {
     "name": "stdout",
     "output_type": "stream",
     "text": [
      "Data\t\t\t Before Processing\t After Processing\n",
      "=================================================================\n",
      "Training Set Images:\t(51000, 28, 28)\t\t(784, 51000)\n",
      "Training Set Labels:\t(51000, 1)\t\t(10, 51000)\n",
      "Dev Set Images:\t\t(9000, 28, 28)\t\t(784, 9000)\n",
      "Dev Set Labels:\t\t(9000, 1)\t\t(10, 9000)\n",
      "Test Set Images:\t(10000, 28, 28)\t\t(784, 10000)\n",
      "Test Set Labels:\t(10000, 1)\t\t(10, 10000)\n",
      "=================================================================\n"
     ]
    }
   ],
   "source": [
    "train_x_norm, train_y_encoded = prep_dataset(train_x_split, train_y_split, num_class = 10)\n",
    "dev_x_norm, dev_y_encoded= prep_dataset(dev_x_split, dev_y_split, num_class = 10)\n",
    "test_x_norm, test_y_encoded = prep_dataset(test_x_orig, test_y_orig, num_class = 10)\n",
    "\n",
    "print(\"Data\\t\\t\\t\",\"Before Processing\\t\",\"After Processing\")\n",
    "print(\"=================================================================\")\n",
    "print(\"Training Set Images:\\t\" + str(train_x_split.shape)+\"\\t\\t\"+ str(train_x_norm.shape))\n",
    "print(\"Training Set Labels:\\t\" + str(train_y_split.shape)+\"\\t\\t\"+ str(train_y_encoded.shape))\n",
    "print(\"Dev Set Images:\\t\\t\" + str(dev_x_split.shape)+\"\\t\\t\"+ str(dev_x_norm.shape))\n",
    "print(\"Dev Set Labels:\\t\\t\" + str(dev_y_split.shape)+\"\\t\\t\"+ str(dev_y_encoded.shape))\n",
    "print(\"Test Set Images:\\t\" + str(test_x_orig.shape)+\"\\t\\t\"+ str(test_x_norm.shape))\n",
    "print(\"Test Set Labels:\\t\" + str(test_y_orig.shape)+\"\\t\\t\"+ str(test_y_encoded.shape))\n",
    "print(\"=================================================================\")\n",
    "\n"
   ]
  },
  {
   "cell_type": "code",
   "execution_count": 5,
   "metadata": {},
   "outputs": [
    {
     "name": "stdout",
     "output_type": "stream",
     "text": [
      "Model: \"sequential\"\n",
      "_________________________________________________________________\n",
      "Layer (type)                 Output Shape              Param #   \n",
      "=================================================================\n",
      "HiddenLayer1 (Dense)         (None, 128)               100480    \n",
      "_________________________________________________________________\n",
      "HiddenLayer2 (Dense)         (None, 64)                8256      \n",
      "_________________________________________________________________\n",
      "HiddenLayer3 (Dense)         (None, 32)                2080      \n",
      "_________________________________________________________________\n",
      "OutputLayer (Dense)          (None, 10)                330       \n",
      "=================================================================\n",
      "Total params: 111,146\n",
      "Trainable params: 111,146\n",
      "Non-trainable params: 0\n",
      "_________________________________________________________________\n"
     ]
    }
   ],
   "source": [
    "model1 = keras.Sequential([\n",
    "#     layers.Flatten(input_shape = (28,28), name = 'InputLayer'),\n",
    "    keras.Input(shape = (784,)),\n",
    "    layers.Dense(128, activation = 'relu', name = 'HiddenLayer1'),\n",
    "    layers.Dense(64, activation = 'relu', name = 'HiddenLayer2'),\n",
    "    layers.Dense(32, activation = 'relu', name = 'HiddenLayer3'),\n",
    "    layers.Dense(10, activation = 'softmax', name = 'OutputLayer')\n",
    "       \n",
    "])\n",
    "model1.summary()"
   ]
  },
  {
   "cell_type": "code",
   "execution_count": 6,
   "metadata": {},
   "outputs": [],
   "source": [
    "model1.compile(loss = keras.losses.CategoricalCrossentropy(),\n",
    "              optimizer = keras.optimizers.Adam(learning_rate = 0.001),\n",
    "              metrics = [\"accuracy\"]\n",
    "\n",
    ")"
   ]
  },
  {
   "cell_type": "code",
   "execution_count": 8,
   "metadata": {},
   "outputs": [
    {
     "name": "stdout",
     "output_type": "stream",
     "text": [
      "Epoch 1/5\n",
      "1594/1594 [==============================] - 17s 11ms/step - loss: 0.0743 - accuracy: 0.9761 - val_loss: 0.1092 - val_accuracy: 0.9706\n",
      "Epoch 2/5\n",
      "1594/1594 [==============================] - 21s 13ms/step - loss: 0.0444 - accuracy: 0.9847 - val_loss: 0.1272 - val_accuracy: 0.9657\n",
      "Epoch 3/5\n",
      "1594/1594 [==============================] - 18s 11ms/step - loss: 0.0383 - accuracy: 0.9871 - val_loss: 0.1008 - val_accuracy: 0.9739\n",
      "Epoch 4/5\n",
      "1594/1594 [==============================] - 17s 11ms/step - loss: 0.0307 - accuracy: 0.9902 - val_loss: 0.1185 - val_accuracy: 0.9707\n",
      "Epoch 5/5\n",
      "1594/1594 [==============================] - 17s 11ms/step - loss: 0.0276 - accuracy: 0.9912 - val_loss: 0.1039 - val_accuracy: 0.9752\n"
     ]
    }
   ],
   "source": [
    "history1 = model1.fit(train_x_norm.T,train_y_encoded.T, batch_size = 32, epochs=5, validation_data = (dev_x_norm.T, dev_y_encoded.T))"
   ]
  },
  {
   "cell_type": "code",
   "execution_count": null,
   "metadata": {},
   "outputs": [],
   "source": [
    "plt.plot(history1.history['accuracy'])\n",
    "plt.plot(history1.history['val_accuracy'])\n",
    "plt.title('model accuracy')\n",
    "plt.ylabel('accuracy')\n",
    "plt.xlabel('epoch')\n",
    "plt.legend(['train', 'val'], loc='upper left')\n",
    "plt.show()\n"
   ]
  },
  {
   "cell_type": "code",
   "execution_count": null,
   "metadata": {},
   "outputs": [],
   "source": [
    "plt.plot(history1.history['loss'])\n",
    "plt.plot(history1.history['val_loss'])\n",
    "plt.title('model loss')\n",
    "plt.ylabel('loss')\n",
    "plt.xlabel('epoch')\n",
    "plt.legend(['train', 'val'], loc='upper left')\n",
    "plt.show()\n"
   ]
  },
  {
   "cell_type": "markdown",
   "metadata": {},
   "source": [
    "## Using Keras  dataset"
   ]
  },
  {
   "cell_type": "code",
   "execution_count": 2,
   "metadata": {},
   "outputs": [
    {
     "name": "stdout",
     "output_type": "stream",
     "text": [
      "(60000, 28, 28) (60000,)\n"
     ]
    }
   ],
   "source": [
    "np.random.seed(1)\n",
    "tf.random.set_seed(1)\n",
    "(x_train, y_train), (x_test, y_test) = keras.datasets.mnist.load_data()\n",
    "print(x_train.shape,y_train.shape)"
   ]
  },
  {
   "cell_type": "code",
   "execution_count": 3,
   "metadata": {},
   "outputs": [],
   "source": [
    "# Preprocess the data (these are NumPy arrays)\n",
    "x_train = x_train.reshape(60000, 784).astype(\"float32\") / 255\n",
    "x_test = x_test.reshape(10000, 784).astype(\"float32\") / 255\n",
    "\n",
    "y_train = y_train.astype(\"float32\")\n",
    "y_test = y_test.astype(\"float32\")\n",
    "\n",
    "# Reserve 10,000 samples for validation\n",
    "x_val = x_train[-9000:]\n",
    "y_val = y_train[-9000:]\n",
    "x_train = x_train[:-9000]\n",
    "y_train = y_train[:-9000]\n"
   ]
  },
  {
   "cell_type": "code",
   "execution_count": 4,
   "metadata": {},
   "outputs": [
    {
     "name": "stdout",
     "output_type": "stream",
     "text": [
      "Model: \"sequential\"\n",
      "_________________________________________________________________\n",
      "Layer (type)                 Output Shape              Param #   \n",
      "=================================================================\n",
      "InputLayer (Flatten)         (None, 784)               0         \n",
      "_________________________________________________________________\n",
      "HiddenLayer2 (Dense)         (None, 800)               628000    \n",
      "_________________________________________________________________\n",
      "HiddenLayer3 (Dense)         (None, 300)               240300    \n",
      "_________________________________________________________________\n",
      "OutputLayer (Dense)          (None, 10)                3010      \n",
      "=================================================================\n",
      "Total params: 871,310\n",
      "Trainable params: 871,310\n",
      "Non-trainable params: 0\n",
      "_________________________________________________________________\n"
     ]
    }
   ],
   "source": [
    "model = keras.Sequential([\n",
    "    layers.Flatten(input_shape = (784,), name = 'InputLayer'),\n",
    "    layers.Dense(800, activation = 'relu', name = 'HiddenLayer2'),\n",
    "    layers.Dense(300, activation = 'relu', name = 'HiddenLayer3'),\n",
    "    layers.Dense(10, activation = 'softmax', name = 'OutputLayer')\n",
    "       \n",
    "])\n",
    "model.summary()"
   ]
  },
  {
   "cell_type": "code",
   "execution_count": 5,
   "metadata": {},
   "outputs": [],
   "source": [
    "model.compile(loss = keras.losses.SparseCategoricalCrossentropy(),\n",
    "              optimizer = keras.optimizers.Adam(learning_rate = 0.001),\n",
    "              metrics = [\"accuracy\"]\n",
    "\n",
    ")"
   ]
  },
  {
   "cell_type": "code",
   "execution_count": 8,
   "metadata": {},
   "outputs": [
    {
     "name": "stdout",
     "output_type": "stream",
     "text": [
      "Fit model on training data\n",
      "797/797 [==============================] - 17s 22ms/step - loss: 0.0786 - accuracy: 0.9757 - val_loss: 0.1056 - val_accuracy: 0.9691\n"
     ]
    }
   ],
   "source": [
    "print(\"Fit model on training data\")\n",
    "history = model.fit(\n",
    "    x_train,\n",
    "    y_train,\n",
    "    batch_size=64,\n",
    "    epochs=1,\n",
    "    # We pass some validation for\n",
    "    # monitoring validation loss and metrics\n",
    "    # at the end of each epoch\n",
    "    validation_data=(x_val, y_val),verbose = 1\n",
    ")"
   ]
  },
  {
   "cell_type": "code",
   "execution_count": 7,
   "metadata": {},
   "outputs": [
    {
     "name": "stdout",
     "output_type": "stream",
     "text": [
      "Evaluate on test data\n",
      "79/79 [==============================] - 2s 21ms/step - loss: 0.1047 - accuracy: 0.9661\n",
      "test loss, test acc: [0.10465250164270401, 0.9660999774932861]\n",
      "Generate predictions for 3 samples\n",
      "predictions shape: (3, 10)\n"
     ]
    }
   ],
   "source": [
    "print(\"Evaluate on test data\")\n",
    "results = model.evaluate(x_test, y_test, batch_size=128)\n",
    "print(\"test loss, test acc:\", results)\n",
    "\n",
    "# Generate predictions (probabilities -- the output of the last layer)\n",
    "# on new data using `predict`\n",
    "print(\"Generate predictions for 3 samples\")\n",
    "predictions = model.predict(x_test[:3])\n",
    "print(\"predictions shape:\", predictions.shape)"
   ]
  },
  {
   "cell_type": "code",
   "execution_count": null,
   "metadata": {},
   "outputs": [],
   "source": [
    "print(history.history)"
   ]
  },
  {
   "cell_type": "code",
   "execution_count": null,
   "metadata": {},
   "outputs": [],
   "source": [
    "plt.plot(history.history['accuracy'])\n",
    "plt.plot(history.history['val_accuracy'])\n",
    "plt.title('model accuracy')\n",
    "plt.ylabel('accuracy')\n",
    "plt.xlabel('epoch')\n",
    "plt.legend(['train', 'val'], loc='upper left')\n",
    "plt.show()\n"
   ]
  },
  {
   "cell_type": "code",
   "execution_count": null,
   "metadata": {},
   "outputs": [],
   "source": []
  }
 ],
 "metadata": {
  "kernelspec": {
   "display_name": "Python 3",
   "language": "python",
   "name": "python3"
  },
  "language_info": {
   "codemirror_mode": {
    "name": "ipython",
    "version": 3
   },
   "file_extension": ".py",
   "mimetype": "text/x-python",
   "name": "python",
   "nbconvert_exporter": "python",
   "pygments_lexer": "ipython3",
   "version": "3.7.7"
  }
 },
 "nbformat": 4,
 "nbformat_minor": 4
}
