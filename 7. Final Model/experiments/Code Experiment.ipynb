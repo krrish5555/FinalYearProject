{
 "cells": [
  {
   "cell_type": "markdown",
   "metadata": {},
   "source": [
    "# Base Model"
   ]
  },
  {
   "cell_type": "markdown",
   "metadata": {},
   "source": [
    "## Importing Necessary Dependencies"
   ]
  },
  {
   "cell_type": "code",
   "execution_count": 2,
   "metadata": {},
   "outputs": [],
   "source": [
    "# Python Standard Libraries for importing data from binary file\n",
    "import os.path #for accessing the file path\n",
    "import struct  #for unpacking the binary data\n",
    "\n",
    "import time    #for calculating time\n",
    "import math\n",
    "\n",
    "#core packages\n",
    "import numpy as np\n",
    "import matplotlib.pyplot as plt\n",
    "\n",
    "#custom module\n",
    "from dataPrep import retrive_data, sample_origDataset , dev_test_split, prep_dataset, visualize_orig\n",
    "\n",
    "\n",
    "np.random.seed(1)\n",
    "%matplotlib inline"
   ]
  },
  {
   "cell_type": "markdown",
   "metadata": {},
   "source": [
    "## Dataset Preparation"
   ]
  },
  {
   "cell_type": "markdown",
   "metadata": {},
   "source": [
    "#### Retriving Dataset"
   ]
  },
  {
   "cell_type": "code",
   "execution_count": 3,
   "metadata": {},
   "outputs": [
    {
     "name": "stdout",
     "output_type": "stream",
     "text": [
      "Data\t\t\t Datatype\t\t Shape\n",
      "=================================================================\n",
      "Training Set Images:\t<class 'numpy.ndarray'>\t (60000, 28, 28)\n",
      "Training Set Labels:\t<class 'numpy.ndarray'>\t (60000, 1)\n",
      "Test Set Images:\t<class 'numpy.ndarray'>\t (10000, 28, 28)\n",
      "Test Set Labels:\t<class 'numpy.ndarray'>\t (10000, 1)\n",
      "=================================================================\n"
     ]
    }
   ],
   "source": [
    "#retriving the data\n",
    "train_x_orig, train_y_orig = retrive_data(dataset=\"training-set\")\n",
    "test_x_temp, test_y_temp = retrive_data(dataset=\"test-set\")\n",
    "\n",
    "#displaying the retrival info\n",
    "print(\"Data\\t\\t\\t\",\"Datatype\\t\\t\",\"Shape\")\n",
    "print(\"=================================================================\")\n",
    "print(\"Training Set Images:\\t\" + str(type(train_x_orig))+\"\\t\",str(train_x_orig.shape))\n",
    "print(\"Training Set Labels:\\t\" + str(type(train_y_orig))+\"\\t\",str(train_y_orig.shape))\n",
    "print(\"Test Set Images:\\t\" + str(type(test_x_temp))+\"\\t\",str(test_x_temp.shape))\n",
    "print(\"Test Set Labels:\\t\" + str(type(test_y_temp))+\"\\t\",str(test_y_temp.shape))\n",
    "print(\"=================================================================\")\n"
   ]
  },
  {
   "cell_type": "markdown",
   "metadata": {},
   "source": [
    "#### Sampling the Dataset for Model Experiment"
   ]
  },
  {
   "cell_type": "code",
   "execution_count": 4,
   "metadata": {},
   "outputs": [
    {
     "name": "stdout",
     "output_type": "stream",
     "text": [
      "Data\t\t\t Complete Data Shape\t Sample Data Shape\t Sample Size\n",
      "=====================================================================================\n",
      "Training Set Images:\t(60000, 28, 28)\t\t(60000, 28, 28)\t\t100%\n",
      "Training Set Labels:\t(60000, 1)\t\t(60000, 1)\n",
      "Test Set Images:\t(10000, 28, 28)\t\t(10000, 28, 28)\t\t100%\n",
      "Test Set Labels:\t(10000, 1)\t\t(10000, 1)\n",
      "=====================================================================================\n"
     ]
    }
   ],
   "source": [
    "\n",
    "train_Vol,train_x_sample, train_y_sample = sample_origDataset(train_x_orig,train_y_orig,dataVol= 100)\n",
    "test_Vol,test_x_sample,test_y_sample = sample_origDataset(test_x_temp,test_y_temp,dataVol= 100)\n",
    "\n",
    "print(\"Data\\t\\t\\t\",\"Complete Data Shape\\t\",\"Sample Data Shape\\t\",\"Sample Size\")\n",
    "print(\"=====================================================================================\")\n",
    "print(\"Training Set Images:\\t\"+ str(train_x_orig.shape)+\"\\t\\t\"+ str(train_x_sample.shape)+\"\\t\\t\"+str(train_Vol)+\"%\")\n",
    "print(\"Training Set Labels:\\t\"+ str(train_y_orig.shape)+\"\\t\\t\"+ str(train_y_sample.shape))\n",
    "print(\"Test Set Images:\\t\"+str(test_x_temp.shape)+\"\\t\\t\"+ str(test_x_sample.shape)+\"\\t\\t\"+str(test_Vol)+\"%\")\n",
    "print(\"Test Set Labels:\\t\"+str(test_y_temp.shape)+\"\\t\\t\"+ str(test_y_sample.shape))\n",
    "print(\"=====================================================================================\")\n"
   ]
  },
  {
   "cell_type": "markdown",
   "metadata": {},
   "source": [
    "#### Splitting Dev-Test Set"
   ]
  },
  {
   "cell_type": "code",
   "execution_count": 5,
   "metadata": {},
   "outputs": [
    {
     "name": "stdout",
     "output_type": "stream",
     "text": [
      "Data\t\t\t Shape\n",
      "=================================================================\n",
      "Dev Set Images:\t\t (5000, 28, 28)\n",
      "Dev Set Labels:\t\t (5000, 1)\n",
      "Test Set Images:\t (5000, 28, 28)\n",
      "Test Set Labels:\t (5000, 1)\n",
      "=================================================================\n"
     ]
    }
   ],
   "source": [
    "dev_x_orig,dev_y_orig,test_x_orig,test_y_orig = dev_test_split(test_x_sample,test_y_sample)\n",
    "\n",
    "print(\"Data\\t\\t\\t\",\"Shape\")\n",
    "print(\"=================================================================\")\n",
    "print(\"Dev Set Images:\\t\\t\" ,str(dev_x_orig.shape))\n",
    "print(\"Dev Set Labels:\\t\\t\" ,str(dev_y_orig.shape))\n",
    "print(\"Test Set Images:\\t\",str(test_x_orig.shape))\n",
    "print(\"Test Set Labels:\\t\",str(test_y_orig.shape))\n",
    "print(\"=================================================================\")\n"
   ]
  },
  {
   "cell_type": "markdown",
   "metadata": {},
   "source": [
    "#### Preparing the Dataset (Flattening and Normalizing)"
   ]
  },
  {
   "cell_type": "code",
   "execution_count": 6,
   "metadata": {},
   "outputs": [
    {
     "name": "stdout",
     "output_type": "stream",
     "text": [
      "Data\t\t\t Before Processing\t After Processing\n",
      "=================================================================\n",
      "Training Set Images:\t(60000, 28, 28)\t\t(784, 60000)\n",
      "Training Set Labels:\t(60000, 1)\t\t(11, 60000)\n",
      "Dev Set Images:\t\t(5000, 28, 28)\t\t(784, 5000)\n",
      "Dev Set Labels:\t\t(5000, 1)\t\t(11, 5000)\n",
      "Test Set Images:\t(5000, 28, 28)\t\t(784, 5000)\n",
      "Test Set Labels:\t(5000, 1)\t\t(11, 5000)\n",
      "=================================================================\n"
     ]
    }
   ],
   "source": [
    "train_x_norm,train_y_encoded, dev_x_norm,dev_y_encoded, test_x_norm, test_y_encoded = prep_dataset(train_x_sample, train_y_sample, dev_x_orig, dev_y_orig, test_x_orig, test_y_orig)\n",
    "print(\"Data\\t\\t\\t\",\"Before Processing\\t\",\"After Processing\")\n",
    "print(\"=================================================================\")\n",
    "print(\"Training Set Images:\\t\" + str(train_x_orig.shape)+\"\\t\\t\"+ str(train_x_norm.shape))\n",
    "print(\"Training Set Labels:\\t\" + str(train_y_orig.shape)+\"\\t\\t\"+ str(train_y_encoded.shape))\n",
    "print(\"Dev Set Images:\\t\\t\" + str(dev_x_orig.shape)+\"\\t\\t\"+ str(dev_x_norm.shape))\n",
    "print(\"Dev Set Labels:\\t\\t\" + str(dev_y_orig.shape)+\"\\t\\t\"+ str(dev_y_encoded.shape))\n",
    "print(\"Test Set Images:\\t\" + str(test_x_orig.shape)+\"\\t\\t\"+ str(test_x_norm.shape))\n",
    "print(\"Test Set Labels:\\t\" + str(test_y_orig.shape)+\"\\t\\t\"+ str(test_y_encoded.shape))\n",
    "print(\"=================================================================\")"
   ]
  },
  {
   "cell_type": "markdown",
   "metadata": {},
   "source": [
    "#### Creating Minibatches"
   ]
  },
  {
   "cell_type": "code",
   "execution_count": 7,
   "metadata": {},
   "outputs": [],
   "source": [
    "def rand_mini_batches(X, Y, mini_batch_size = 64, seed=1):\n",
    "   \n",
    "    \n",
    "    np.random.seed(seed)            \n",
    "    m = X.shape[1]                  # number of training examples\n",
    "    mini_batches = []\n",
    "        \n",
    "#     Shuffle (X, Y)\n",
    "    permutation = list(np.random.permutation(m))\n",
    "    shuffled_X = X[:, permutation]\n",
    "    shuffled_Y = Y[:, permutation].reshape((11,m))\n",
    "\n",
    "#     Partition (shuffled_X, shuffled_Y) except for the last batch\n",
    "    num_complete_minibatches = math.floor(m/mini_batch_size) # number of mini batches of size mini_batch_size \n",
    "    for k in range(0, num_complete_minibatches):\n",
    "        mini_batch_X = shuffled_X[:, k * mini_batch_size : (k+1)*mini_batch_size]\n",
    "        mini_batch_Y = shuffled_Y[:, k * mini_batch_size : (k+1)*mini_batch_size]\n",
    "        mini_batch = (mini_batch_X, mini_batch_Y)\n",
    "        mini_batches.append(mini_batch)\n",
    "    \n",
    "    # Last batch (last mini-batch < mini_batch_size)\n",
    "    if m % mini_batch_size != 0:\n",
    "        mini_batch_X = shuffled_X[:, num_complete_minibatches * mini_batch_size : m]\n",
    "        mini_batch_Y = shuffled_Y[:, num_complete_minibatches * mini_batch_size : m]\n",
    "        mini_batch = (mini_batch_X, mini_batch_Y)\n",
    "        mini_batches.append(mini_batch)\n",
    "    \n",
    "    return mini_batches"
   ]
  },
  {
   "cell_type": "code",
   "execution_count": 8,
   "metadata": {},
   "outputs": [
    {
     "name": "stdout",
     "output_type": "stream",
     "text": [
      "Total Minibatches:\t469\n",
      "\n",
      "Minibatchs\t\tShape\n",
      "==================================\n",
      "1st mini_batch_X:\t(784, 128)\n",
      "2nd mini_batch_X:\t(784, 128)\n",
      "468th mini_batch_X:\t(784, 128)\n",
      "469th mini_batch_X:\t(784, 96)\n",
      "\n",
      "1st mini_batch_Y:\t(11, 128)\n",
      "2nd mini_batch_Y:\t(11, 128)\n",
      "468th mini_batch_Y:\t(11, 128)\n",
      "469th mini_batch_Y:\t(11, 96)\n"
     ]
    }
   ],
   "source": [
    "mini_batches = rand_mini_batches(train_x_norm,train_y_encoded, mini_batch_size = 128)\n",
    "minibatch_length = len(mini_batches)\n",
    "print(\"Total Minibatches:\\t\"+str(minibatch_length))\n",
    "print(\"\\nMinibatchs\\t\\tShape\")\n",
    "print(\"==================================\")\n",
    "print (\"1st mini_batch_X:\\t\" + str(mini_batches[0][0].shape))\n",
    "print (\"2nd mini_batch_X:\\t\" + str(mini_batches[1][0].shape))\n",
    "print (str(minibatch_length - 1) + \"th mini_batch_X:\\t\" + str(mini_batches[-2][0].shape))\n",
    "print (str(minibatch_length) + \"th mini_batch_X:\\t\" + str(mini_batches[-1][0].shape))\n",
    "\n",
    "print (\"\\n1st mini_batch_Y:\\t\" + str(mini_batches[0][1].shape))\n",
    "print (\"2nd mini_batch_Y:\\t\" + str(mini_batches[1][1].shape)) \n",
    "print (str(minibatch_length - 1) + \"th mini_batch_Y:\\t\" + str(mini_batches[-2][1].shape))\n",
    "print (str(minibatch_length) + \"th mini_batch_Y:\\t\" + str(mini_batches[-1][1].shape))\n"
   ]
  },
  {
   "cell_type": "markdown",
   "metadata": {},
   "source": [
    "## Utility Functions"
   ]
  },
  {
   "cell_type": "markdown",
   "metadata": {},
   "source": [
    "#### ReLU Function and Its derivative"
   ]
  },
  {
   "cell_type": "code",
   "execution_count": 9,
   "metadata": {},
   "outputs": [],
   "source": [
    "def relu(Z):\n",
    "    A = np.maximum(0.0,Z)\n",
    "    \n",
    "    cache = Z\n",
    "    assert(A.shape == Z.shape)\n",
    "    return A, cache"
   ]
  },
  {
   "cell_type": "code",
   "execution_count": 10,
   "metadata": {},
   "outputs": [],
   "source": [
    "def relu_grad(dA, cache):\n",
    "    Z = cache\n",
    "    dZ = np.array(dA, copy=True) # just converting dz to a correct object.\n",
    "    \n",
    "    dZ[Z < 0] = 0\n",
    "    \n",
    "    assert(dZ.shape == Z.shape)\n",
    "    return dZ"
   ]
  },
  {
   "cell_type": "markdown",
   "metadata": {},
   "source": [
    "#### Softmax Function and its derivative"
   ]
  },
  {
   "cell_type": "code",
   "execution_count": 11,
   "metadata": {},
   "outputs": [],
   "source": [
    "def softmax(Z):\n",
    "    shift = Z - np.max(Z) #Avoiding underflow or overflow errors due to floating point instability in softmax\n",
    "    t = np.exp(shift)\n",
    "    A = np.divide(t,np.sum(t,axis = 0))\n",
    "    \n",
    "    cache = Z\n",
    "    assert(A.shape == Z.shape)\n",
    "    return A, cache"
   ]
  },
  {
   "cell_type": "markdown",
   "metadata": {},
   "source": [
    "#### Learning rate decay"
   ]
  },
  {
   "cell_type": "code",
   "execution_count": null,
   "metadata": {},
   "outputs": [],
   "source": [
    "def decay_learning_rate(alpha_prev, decay_rate = 1, epoch):\n",
    "    \n",
    "    alpha = (1/(1 + decay_rate * epoch)) * alpha_prev\n",
    "    \n",
    "    return alpha"
   ]
  },
  {
   "cell_type": "markdown",
   "metadata": {},
   "source": [
    "## Deep Learning Model"
   ]
  },
  {
   "cell_type": "markdown",
   "metadata": {},
   "source": [
    "### 1. Creating NN Architecture"
   ]
  },
  {
   "cell_type": "markdown",
   "metadata": {},
   "source": [
    "#### initializing layers"
   ]
  },
  {
   "cell_type": "code",
   "execution_count": 51,
   "metadata": {},
   "outputs": [],
   "source": [
    "def init_layers():\n",
    "    layers_dim = [784,800,300,11]\n",
    "    return layers_dim"
   ]
  },
  {
   "cell_type": "markdown",
   "metadata": {},
   "source": [
    "#### Initializing Parameters"
   ]
  },
  {
   "cell_type": "markdown",
   "metadata": {},
   "source": [
    "- Random initialization"
   ]
  },
  {
   "cell_type": "code",
   "execution_count": 41,
   "metadata": {},
   "outputs": [],
   "source": [
    "def init_params_random(layers_dim):\n",
    "    \n",
    "    L = len(layers_dim)\n",
    "    params = {}\n",
    "        \n",
    "    for l in range(1,L):\n",
    "        params['W' + str(l)] = np.random.randn(layers_dim[l],layers_dim[l-1]) *0.01\n",
    "        params['b' + str(l)] = np.zeros((layers_dim[l],1))\n",
    "     \n",
    "        assert(params['W' + str(l)].shape == (layers_dim[l],layers_dim[l-1]))\n",
    "        assert(params['b' + str(l)].shape == (layers_dim[l],1))\n",
    "    return params"
   ]
  },
  {
   "cell_type": "markdown",
   "metadata": {},
   "source": [
    "- He-initialization"
   ]
  },
  {
   "cell_type": "code",
   "execution_count": 14,
   "metadata": {},
   "outputs": [],
   "source": [
    "def init_params_he(layers_dim):\n",
    "    \n",
    "    L = len(layers_dim)\n",
    "    params = {}\n",
    "        \n",
    "    for l in range(1,L):\n",
    "        params['W' + str(l)] = np.random.randn(layers_dim[l],layers_dim[l-1]) * np.sqrt(np.divide(2,layers_dim[l-1])) # He - initialization\n",
    "        params['b' + str(l)] = np.zeros((layers_dim[l],1))\n",
    "     \n",
    "        assert(params['W' + str(l)].shape == (layers_dim[l],layers_dim[l-1]))\n",
    "        assert(params['b' + str(l)].shape == (layers_dim[l],1))\n",
    "    return params"
   ]
  },
  {
   "cell_type": "markdown",
   "metadata": {},
   "source": [
    "#### Initializing Hyper Parameters"
   ]
  },
  {
   "cell_type": "code",
   "execution_count": 15,
   "metadata": {},
   "outputs": [],
   "source": [
    "def init_hyperParams(alpha = 0.001, num_epoch = 2000, mini_batch_size = 128, beta1 = 0.9, beta2 = 0.999,  epsilon = 1e-8):\n",
    "    hyperParams = {}\n",
    "    hyperParams['learning_rate'] = alpha\n",
    "    hyperParams['num_epoch'] = num_epoch\n",
    "    hyperParams['mini_batch_size'] = mini_batch_size\n",
    "    hyperParams['beta1'] = beta1\n",
    "    hyperParams['beta2'] = beta2\n",
    "    hyperParams['epsilon'] = epsilon\n",
    "    \n",
    "    return hyperParams"
   ]
  },
  {
   "cell_type": "markdown",
   "metadata": {},
   "source": [
    "### 2. Forward Propogation"
   ]
  },
  {
   "cell_type": "markdown",
   "metadata": {},
   "source": [
    "#### Calculating sum of product of inputs and weights (Z) for individual layer"
   ]
  },
  {
   "cell_type": "code",
   "execution_count": 16,
   "metadata": {},
   "outputs": [],
   "source": [
    "def forward_sum(A,W,b):\n",
    "    \n",
    "    Z = np.dot(W,A) + b\n",
    "    \n",
    "    cache = (A,W,b)\n",
    "    assert(Z.shape == (W.shape[0],Z.shape[1]))\n",
    "    \n",
    "    return Z, cache"
   ]
  },
  {
   "cell_type": "markdown",
   "metadata": {},
   "source": [
    "#### Calculating Activation for individual Layer"
   ]
  },
  {
   "cell_type": "code",
   "execution_count": 17,
   "metadata": {},
   "outputs": [],
   "source": [
    "def forward_activation(A,W,b,activation):\n",
    "    \n",
    "    if activation == 'relu':\n",
    "        Z, sum_cache = forward_sum(A,W,b)\n",
    "        A, activation_cache = relu(Z)\n",
    "        \n",
    "    if activation == 'softmax':\n",
    "        Z, sum_cache = forward_sum(A,W,b)\n",
    "        A, activation_cache = softmax(Z)\n",
    "    \n",
    "    cache = (sum_cache,activation_cache)\n",
    "    assert(A.shape == Z.shape)\n",
    "    \n",
    "    return A, cache"
   ]
  },
  {
   "cell_type": "markdown",
   "metadata": {},
   "source": [
    "#### Complete Forward Propagation for L layers"
   ]
  },
  {
   "cell_type": "code",
   "execution_count": 18,
   "metadata": {},
   "outputs": [],
   "source": [
    "def forward_prop(X,parameters):\n",
    "    caches = []\n",
    "    A = X\n",
    "    L = len(parameters) // 2\n",
    "    for l in range(1, L):\n",
    "        A_prev = A \n",
    "        A, cache = forward_activation(A_prev,parameters['W' + str(l)],parameters['b' + str(l)],activation='relu')\n",
    "        caches.append(cache)\n",
    "\n",
    "    AL, cache = forward_activation(A,parameters['W' + str(L)],parameters['b' + str(L)],activation='softmax')\n",
    "    caches.append(cache)\n",
    "    \n",
    "    assert(AL.shape == (11,X.shape[1]))\n",
    "    \n",
    "    return AL,caches\n",
    "    "
   ]
  },
  {
   "cell_type": "markdown",
   "metadata": {},
   "source": [
    "### 3. Cost Function"
   ]
  },
  {
   "cell_type": "code",
   "execution_count": 19,
   "metadata": {
    "scrolled": true
   },
   "outputs": [],
   "source": [
    "def compute_cost(AL,Y):\n",
    "    m = Y.shape[1]\n",
    "\n",
    "    cost = -(1./m) * np.sum(np.sum(np.multiply(Y,np.log(AL)), axis = 0,keepdims=True))\n",
    "    \n",
    "    \n",
    "    cost = np.squeeze(cost)      # Making sure your cost's shape is not returned as ndarray\n",
    "    assert(cost.shape == ())\n",
    "    \n",
    "    return cost"
   ]
  },
  {
   "cell_type": "markdown",
   "metadata": {},
   "source": [
    "### 4. Backward Propagation"
   ]
  },
  {
   "cell_type": "markdown",
   "metadata": {},
   "source": [
    "#### Calculating Gradients for individual Layer"
   ]
  },
  {
   "cell_type": "code",
   "execution_count": 20,
   "metadata": {},
   "outputs": [],
   "source": [
    "def backward_grad(dZ, cache):\n",
    "    A_prev, W, b = cache\n",
    "    m = A_prev.shape[1]\n",
    "    \n",
    "    dW = (1/m) * np.dot(dZ,A_prev.T)\n",
    "    db = (1/m) * np.sum(dZ, axis = 1, keepdims=True )\n",
    "    dA_prev = np.dot(W.T, dZ)\n",
    "\n",
    "    \n",
    "    assert (dA_prev.shape == A_prev.shape)\n",
    "    assert (dW.shape == W.shape)\n",
    "    assert (db.shape == b.shape)\n",
    "    \n",
    "    \n",
    "    return dA_prev, dW, db"
   ]
  },
  {
   "cell_type": "markdown",
   "metadata": {},
   "source": [
    "#### Calculating Backward Activation for individual layer"
   ]
  },
  {
   "cell_type": "code",
   "execution_count": 21,
   "metadata": {},
   "outputs": [],
   "source": [
    "def backward_activation(dA,cache,activation):\n",
    "    sum_cache, activation_cache = cache\n",
    "    \n",
    "    if activation == \"relu\":\n",
    "        dZ = relu_grad(dA,activation_cache)\n",
    "        dA_prev, dW, db = backward_grad(dZ, sum_cache)\n",
    "        \n",
    "    elif activation == \"softmax\":\n",
    "        dZ = dA\n",
    "        dA_prev, dW, db = backward_grad(dA, sum_cache)\n",
    "    \n",
    "    return dA_prev, dW, db\n",
    "    \n",
    "    "
   ]
  },
  {
   "cell_type": "markdown",
   "metadata": {},
   "source": [
    "#### Complete Backward Propagation for L layers"
   ]
  },
  {
   "cell_type": "code",
   "execution_count": 22,
   "metadata": {},
   "outputs": [],
   "source": [
    "def backward_prop(AL, Y,caches):\n",
    "    grads = {}\n",
    "    L = len(caches) # the number of layers\n",
    "    m = AL.shape[1]\n",
    "    Y = Y.reshape(AL.shape) # after this line, Y is the same shape as AL\n",
    "    \n",
    "    dA = np.subtract(AL,Y)\n",
    "    \n",
    "    current_cache = caches[L-1]\n",
    "    grads[\"dA\" + str(L-1)], grads[\"dW\" + str(L)], grads[\"db\" + str(L)] = backward_activation(dA, current_cache, activation = 'softmax')\n",
    "    \n",
    "    for l in reversed(range(L-1)):\n",
    "        current_cache = caches[l]\n",
    "        dA_prev_temp, dW_temp, db_temp = backward_activation(grads[\"dA\" + str(l + 1)], current_cache, activation = 'relu')\n",
    "        grads[\"dA\" + str(l)] = dA_prev_temp\n",
    "        grads[\"dW\" + str(l + 1)] = dW_temp\n",
    "        grads[\"db\" + str(l + 1)] = db_temp\n",
    "\n",
    "    return grads"
   ]
  },
  {
   "cell_type": "markdown",
   "metadata": {},
   "source": [
    "### 5. Update Parameters"
   ]
  },
  {
   "cell_type": "markdown",
   "metadata": {},
   "source": [
    "- normal update of parameters"
   ]
  },
  {
   "cell_type": "code",
   "execution_count": 23,
   "metadata": {},
   "outputs": [],
   "source": [
    "def update_parameters(parameters, grads, learning_rate):\n",
    "    L = len(parameters) // 2\n",
    "    for l in range(L):\n",
    "        parameters[\"W\" + str(l+1)] = parameters[\"W\" + str(l+1)] - (learning_rate * grads[\"dW\" + str(l+1)])\n",
    "        parameters[\"b\" + str(l+1)] = parameters[\"b\" + str(l+1)] - (learning_rate * grads[\"db\" + str(l+1)])\n",
    "    return parameters"
   ]
  },
  {
   "cell_type": "markdown",
   "metadata": {},
   "source": [
    "- update parameters with adam"
   ]
  },
  {
   "cell_type": "code",
   "execution_count": 24,
   "metadata": {},
   "outputs": [],
   "source": [
    "#initialize adam\n",
    "\n",
    "def initialize_adam(parameters) :\n",
    "   \n",
    "    L = len(parameters) // 2 \n",
    "    v = {}\n",
    "    s = {}\n",
    "    \n",
    "    for l in range(L):\n",
    "        v[\"dW\" + str(l+1)] = np.zeros(parameters[\"W\" + str(l+1)].shape)\n",
    "        v[\"db\" + str(l+1)] = np.zeros(parameters[\"b\" + str(l+1)].shape)\n",
    "        s[\"dW\" + str(l+1)] = np.zeros(parameters[\"W\" + str(l+1)].shape)\n",
    "        s[\"db\" + str(l+1)] = np.zeros(parameters[\"b\" + str(l+1)].shape)\n",
    "    \n",
    "    return v, s"
   ]
  },
  {
   "cell_type": "code",
   "execution_count": 25,
   "metadata": {},
   "outputs": [],
   "source": [
    "#update with adam\n",
    "def update_parameters_adam(parameters, grads, learning_rate, v, s, t , beta1 = 0.9, beta2 = 0.999,  epsilon = 1e-8):\n",
    "       \n",
    "    L = len(parameters) // 2           \n",
    "    v_corrected = {}                         \n",
    "    s_corrected = {}                       \n",
    "    \n",
    "    for l in range(L):\n",
    "        # Moving average of the gradients.\n",
    "        v[\"dW\" + str(l+1)] = np.add(beta1 * v[\"dW\" + str(l+1)], (1 - beta1) * grads[\"dW\" + str(l+1)])\n",
    "        v[\"db\" + str(l+1)] = np.add(beta1 * v[\"db\" + str(l+1)], (1 - beta1) * grads[\"db\" + str(l+1)])\n",
    "\n",
    "        # Compute bias-corrected first moment estimate.\n",
    "        v_corrected[\"dW\" + str(l+1)] = np.divide(v[\"dW\" + str(l+1)], (1 - np.power(beta1,t)))\n",
    "        v_corrected[\"db\" + str(l+1)] = np.divide(v[\"db\" + str(l+1)], (1 - np.power(beta1,t)))\n",
    "\n",
    "        # Moving average of the squared gradients. \n",
    "        s[\"dW\" + str(l+1)] = np.add(beta2 * s[\"dW\" + str(l+1)], (1 - beta2) * np.square(grads[\"dW\" + str(l+1)]))\n",
    "        s[\"db\" + str(l+1)] = np.add(beta2 * s[\"db\" + str(l+1)], (1 - beta2) * np.square(grads[\"db\" + str(l+1)]))\n",
    "\n",
    "        # Compute bias-corrected second raw moment estimate. \n",
    "        s_corrected[\"dW\" + str(l+1)] = np.divide(s[\"dW\" + str(l+1)], (1 - np.power(beta2,t)))\n",
    "        s_corrected[\"db\" + str(l+1)] = np.divide(s[\"db\" + str(l+1)], (1 - np.power(beta2,t)))\n",
    "\n",
    "        # Update parameters. \n",
    "        parameters[\"W\" + str(l+1)] = np.subtract(parameters[\"W\" + str(l+1)],  learning_rate * np.divide(v_corrected[\"dW\" + str(l+1)], np.sqrt(s_corrected[\"dW\" + str(l+1)]) + epsilon))\n",
    "        parameters[\"b\" + str(l+1)] = np.subtract(parameters[\"b\" + str(l+1)],  learning_rate * np.divide(v_corrected[\"db\" + str(l+1)], np.sqrt(s_corrected[\"db\" + str(l+1)]) + epsilon))\n",
    "\n",
    "    return parameters, v, s"
   ]
  },
  {
   "cell_type": "markdown",
   "metadata": {},
   "source": [
    "### 6.  Prediction "
   ]
  },
  {
   "cell_type": "code",
   "execution_count": 26,
   "metadata": {},
   "outputs": [],
   "source": [
    "def predict(X,y,parameters):\n",
    "    m = y.shape[1]\n",
    "    n = len(parameters) // 2 # number of layers in the neural network\n",
    "    \n",
    "    probas, caches = forward_prop(X, parameters)\n",
    "   \n",
    "    assert(probas.shape == y.shape)\n",
    "        \n",
    "    predicted_labels = np.argmax(probas,axis=0).reshape(1,probas.shape[1])\n",
    "    predicted_prob = np.max(probas,axis = 0).reshape(1,m)\n",
    "    \n",
    "    Y = np.argmax(y,axis=0).reshape(1,y.shape[1])\n",
    "    \n",
    "\n",
    "    #print results\n",
    "    true_prediction = np.equal(predicted_labels,Y)\n",
    "    \n",
    "    num_correct_labels = np.sum(true_prediction)\n",
    "    accuracy = (num_correct_labels/m)\n",
    "        \n",
    "    return predicted_labels, predicted_prob, accuracy\n"
   ]
  },
  {
   "cell_type": "markdown",
   "metadata": {},
   "source": [
    "#### Visualizing the costs and accuracy for model analysis"
   ]
  },
  {
   "cell_type": "code",
   "execution_count": 64,
   "metadata": {},
   "outputs": [],
   "source": [
    "def visualize_results(attr, attr_type):\n",
    "    \n",
    "    plt.plot(np.squeeze(attr))\n",
    "    if attr_type == 'costs':\n",
    "        plt.ylabel(\"cost\")\n",
    "        plt.title(\"Cost\")\n",
    "        \n",
    "    elif attr_type == 'train_accs':\n",
    "        plt.ylabel(\"accuracy\")\n",
    "        plt.title(\"Training Accuracy\")\n",
    "        plt.plot(np.squeeze(1 - attr), label = 'loss')\n",
    "        \n",
    "        \n",
    "    elif attr_type == 'val_accs':\n",
    "        plt.ylabel(\"accuracy\")\n",
    "        plt.title(\"Validation Accuracy\")\n",
    "        plt.plot(np.squeeze(1 - attr), label = 'loss')\n",
    "        \n",
    "        \n",
    "    else:\n",
    "        raise ValueError(\"Dataset set must be training or dev or test set\")\n",
    "        \n",
    "    plt.xlabel('Epochs (per hundreds)')\n",
    "    plt.show()"
   ]
  },
  {
   "cell_type": "markdown",
   "metadata": {},
   "source": [
    "### 7. Train Model"
   ]
  },
  {
   "cell_type": "code",
   "execution_count": 2,
   "metadata": {},
   "outputs": [],
   "source": [
    "def train(X_train, Y_train, X_dev, Y_dev, layers_dim, hyperParams, optimizer = 'adam'):\n",
    "    #hyper parameters\n",
    "    learning_rate = hyperParams['learning_rate']\n",
    "    num_epoch = hyperParams['num_epoch']\n",
    "    mini_batch_size = hyperParams['mini_batch_size']\n",
    "    beta1 = hyperParams['beta1']\n",
    "    beta2 = hyperParams['beta2']\n",
    "    epsilon = hyperParams['epsilon']\n",
    "    \n",
    "    seed = 1\n",
    "    m = Y_train.shape[1]\n",
    "    costs = []      # keep track of epoch cost    \n",
    "    train_accs = []  # keep track of training accuracy\n",
    "    val_accs = []     # keep track of Validation accuracy\n",
    "    \n",
    "    parameters = init_params_he(layers_dim)\n",
    "    \n",
    "    if optimizer == 'mgd':\n",
    "        pass\n",
    "    elif optimizer == 'adam':\n",
    "        t = 0\n",
    "        v,s = initialize_adam(parameters)\n",
    "    \n",
    "    #minibatch GD\n",
    "    for i in range(0, num_epoch):\n",
    "        seed += 1\n",
    "        minibatches = rand_mini_batches(X_train, Y_train, mini_batch_size, seed)\n",
    "        epoch_cost = 0\n",
    "        if i % 10 == 0:\n",
    "            learning_rate = decay_learning_rate(learning_rate, decay_rate, i)\n",
    "        \n",
    "        for minibatch in minibatches:\n",
    "            \n",
    "            (minibatch_X, minibatch_Y) = minibatch\n",
    "            \n",
    "            AL, caches = forward_prop(minibatch_X, parameters)\n",
    "\n",
    "            epoch_cost += compute_cost(AL, minibatch_Y) #accumulating the batch costs\n",
    "\n",
    "            grads = backward_prop(AL, minibatch_Y, caches)\n",
    "\n",
    "            if optimizer == 'mgd':\n",
    "                parameters = update_parameters(parameters, grads, learning_rate)\n",
    "            elif optimizer == 'adam':\n",
    "                t = t+1\n",
    "                parameters, v, s = update_parameters_adam(parameters, grads,learning_rate, v, s,t, beta1, beta2,  epsilon)      \n",
    "            \n",
    "        epoch_cost_avg = epoch_cost / m\n",
    "        \n",
    "        #computing and accumulating training and validation accuracy\n",
    "        _,_,train_acc = predict(X_train, Y_train, parameters)\n",
    "        _,_,val_acc= predict(X_dev, Y_dev, parameters)  \n",
    "        train_accs.append(train_acc)\n",
    "        val_accs.append(val_acc)\n",
    "\n",
    "               \n",
    "#         if i % 50 == 0:\n",
    "        print(\"Epoch: %d =========== Learning rate: %f\\n\"%(i,learning_rate))   \n",
    "        print (\"\\tCost: %f || Training acc: %.6f || Val acc: %.6f || Val loss: %.6f\"%(epoch_cost_avg,train_acc,val_acc,1-val_acc))\n",
    "#         if i % 100 == 0:\n",
    "        costs.append(epoch_cost_avg)\n",
    "            \n",
    "            \n",
    "            \n",
    "    visualize_results(costs, attr_type='costs') \n",
    "    \n",
    "    visualize_results(train_accs, attr_type='train_accs')       \n",
    "    visualize_results(val_accs, attr_type='val_accs')       \n",
    "    \n",
    "    return parameters"
   ]
  },
  {
   "cell_type": "markdown",
   "metadata": {},
   "source": [
    "### Running Model"
   ]
  },
  {
   "cell_type": "code",
   "execution_count": 52,
   "metadata": {
    "scrolled": true
   },
   "outputs": [
    {
     "name": "stdout",
     "output_type": "stream",
     "text": [
      "Epoch: 0 == Cost: 0.001734 || Training acc: 0.904550 || Val acc: 0.911600 || Val loss: 0.088400\n",
      "Epoch: 1 == Cost: 0.000578 || Training acc: 0.933167 || Val acc: 0.937400 || Val loss: 0.062600\n",
      "Epoch: 2 == Cost: 0.000433 || Training acc: 0.945133 || Val acc: 0.944400 || Val loss: 0.055600\n",
      "Epoch: 3 == Cost: 0.000358 || Training acc: 0.955283 || Val acc: 0.953600 || Val loss: 0.046400\n",
      "Epoch: 4 == Cost: 0.000305 || Training acc: 0.961967 || Val acc: 0.957400 || Val loss: 0.042600\n",
      "Epoch: 5 == Cost: 0.000267 || Training acc: 0.966400 || Val acc: 0.959200 || Val loss: 0.040800\n",
      "Epoch: 6 == Cost: 0.000235 || Training acc: 0.970433 || Val acc: 0.965800 || Val loss: 0.034200\n",
      "Epoch: 7 == Cost: 0.000211 || Training acc: 0.973833 || Val acc: 0.967000 || Val loss: 0.033000\n",
      "Epoch: 8 == Cost: 0.000190 || Training acc: 0.976467 || Val acc: 0.968600 || Val loss: 0.031400\n",
      "Epoch: 9 == Cost: 0.000172 || Training acc: 0.978950 || Val acc: 0.970000 || Val loss: 0.030000\n",
      "Epoch: 10 == Cost: 0.000155 || Training acc: 0.980883 || Val acc: 0.971800 || Val loss: 0.028200\n",
      "Epoch: 11 == Cost: 0.000142 || Training acc: 0.983567 || Val acc: 0.971800 || Val loss: 0.028200\n",
      "Epoch: 12 == Cost: 0.000130 || Training acc: 0.984817 || Val acc: 0.973400 || Val loss: 0.026600\n",
      "Epoch: 13 == Cost: 0.000119 || Training acc: 0.986317 || Val acc: 0.975000 || Val loss: 0.025000\n",
      "Epoch: 14 == Cost: 0.000109 || Training acc: 0.987150 || Val acc: 0.974400 || Val loss: 0.025600\n",
      "Epoch: 15 == Cost: 0.000100 || Training acc: 0.989050 || Val acc: 0.976600 || Val loss: 0.023400\n",
      "Epoch: 16 == Cost: 0.000092 || Training acc: 0.990117 || Val acc: 0.976200 || Val loss: 0.023800\n",
      "Epoch: 17 == Cost: 0.000084 || Training acc: 0.990450 || Val acc: 0.977200 || Val loss: 0.022800\n",
      "Epoch: 18 == Cost: 0.000077 || Training acc: 0.991617 || Val acc: 0.977800 || Val loss: 0.022200\n",
      "Epoch: 19 == Cost: 0.000073 || Training acc: 0.992567 || Val acc: 0.975600 || Val loss: 0.024400\n",
      "Epoch: 20 == Cost: 0.000066 || Training acc: 0.993200 || Val acc: 0.977000 || Val loss: 0.023000\n",
      "Epoch: 21 == Cost: 0.000061 || Training acc: 0.993733 || Val acc: 0.977400 || Val loss: 0.022600\n",
      "Epoch: 22 == Cost: 0.000057 || Training acc: 0.995067 || Val acc: 0.977200 || Val loss: 0.022800\n",
      "Epoch: 23 == Cost: 0.000051 || Training acc: 0.996100 || Val acc: 0.978400 || Val loss: 0.021600\n",
      "Epoch: 24 == Cost: 0.000048 || Training acc: 0.996483 || Val acc: 0.978600 || Val loss: 0.021400\n",
      "Epoch: 25 == Cost: 0.000044 || Training acc: 0.996100 || Val acc: 0.978400 || Val loss: 0.021600\n",
      "Epoch: 26 == Cost: 0.000041 || Training acc: 0.996950 || Val acc: 0.979400 || Val loss: 0.020600\n",
      "Epoch: 27 == Cost: 0.000038 || Training acc: 0.997450 || Val acc: 0.979600 || Val loss: 0.020400\n",
      "Epoch: 28 == Cost: 0.000034 || Training acc: 0.997933 || Val acc: 0.978600 || Val loss: 0.021400\n",
      "Epoch: 29 == Cost: 0.000032 || Training acc: 0.998367 || Val acc: 0.979600 || Val loss: 0.020400\n",
      "Epoch: 30 == Cost: 0.000030 || Training acc: 0.998467 || Val acc: 0.979400 || Val loss: 0.020600\n",
      "Epoch: 31 == Cost: 0.000027 || Training acc: 0.998733 || Val acc: 0.979400 || Val loss: 0.020600\n",
      "Epoch: 32 == Cost: 0.000025 || Training acc: 0.998650 || Val acc: 0.978200 || Val loss: 0.021800\n",
      "Epoch: 33 == Cost: 0.000022 || Training acc: 0.999017 || Val acc: 0.979400 || Val loss: 0.020600\n",
      "Epoch: 34 == Cost: 0.000021 || Training acc: 0.999233 || Val acc: 0.979400 || Val loss: 0.020600\n",
      "Epoch: 35 == Cost: 0.000019 || Training acc: 0.999367 || Val acc: 0.979600 || Val loss: 0.020400\n",
      "Epoch: 36 == Cost: 0.000017 || Training acc: 0.999300 || Val acc: 0.978400 || Val loss: 0.021600\n",
      "Epoch: 37 == Cost: 0.000016 || Training acc: 0.999467 || Val acc: 0.979600 || Val loss: 0.020400\n",
      "Epoch: 38 == Cost: 0.000015 || Training acc: 0.999600 || Val acc: 0.979600 || Val loss: 0.020400\n",
      "Epoch: 39 == Cost: 0.000014 || Training acc: 0.999633 || Val acc: 0.979800 || Val loss: 0.020200\n",
      "Epoch: 40 == Cost: 0.000013 || Training acc: 0.999733 || Val acc: 0.979800 || Val loss: 0.020200\n",
      "Epoch: 41 == Cost: 0.000012 || Training acc: 0.999750 || Val acc: 0.978000 || Val loss: 0.022000\n",
      "Epoch: 42 == Cost: 0.000011 || Training acc: 0.999817 || Val acc: 0.980400 || Val loss: 0.019600\n",
      "Epoch: 43 == Cost: 0.000010 || Training acc: 0.999900 || Val acc: 0.978600 || Val loss: 0.021400\n",
      "Epoch: 44 == Cost: 0.000009 || Training acc: 0.999883 || Val acc: 0.979000 || Val loss: 0.021000\n",
      "Epoch: 45 == Cost: 0.000008 || Training acc: 0.999967 || Val acc: 0.980800 || Val loss: 0.019200\n",
      "Epoch: 46 == Cost: 0.000008 || Training acc: 0.999933 || Val acc: 0.979200 || Val loss: 0.020800\n",
      "Epoch: 47 == Cost: 0.000007 || Training acc: 0.999967 || Val acc: 0.979200 || Val loss: 0.020800\n",
      "Epoch: 48 == Cost: 0.000006 || Training acc: 0.999933 || Val acc: 0.980200 || Val loss: 0.019800\n",
      "Epoch: 49 == Cost: 0.000006 || Training acc: 0.999967 || Val acc: 0.980600 || Val loss: 0.019400\n",
      "Epoch: 50 == Cost: 0.000006 || Training acc: 0.999983 || Val acc: 0.980200 || Val loss: 0.019800\n",
      "Epoch: 51 == Cost: 0.000005 || Training acc: 0.999983 || Val acc: 0.980000 || Val loss: 0.020000\n",
      "Epoch: 52 == Cost: 0.000005 || Training acc: 0.999983 || Val acc: 0.980400 || Val loss: 0.019600\n",
      "Epoch: 53 == Cost: 0.000004 || Training acc: 0.999983 || Val acc: 0.980000 || Val loss: 0.020000\n",
      "Epoch: 54 == Cost: 0.000004 || Training acc: 0.999967 || Val acc: 0.980200 || Val loss: 0.019800\n",
      "Epoch: 55 == Cost: 0.000004 || Training acc: 0.999983 || Val acc: 0.980800 || Val loss: 0.019200\n",
      "Epoch: 56 == Cost: 0.000003 || Training acc: 0.999983 || Val acc: 0.980400 || Val loss: 0.019600\n",
      "Epoch: 57 == Cost: 0.000003 || Training acc: 1.000000 || Val acc: 0.980800 || Val loss: 0.019200\n",
      "Epoch: 58 == Cost: 0.000003 || Training acc: 1.000000 || Val acc: 0.980800 || Val loss: 0.019200\n",
      "Epoch: 59 == Cost: 0.000003 || Training acc: 1.000000 || Val acc: 0.980000 || Val loss: 0.020000\n",
      "Epoch: 60 == Cost: 0.000003 || Training acc: 1.000000 || Val acc: 0.980000 || Val loss: 0.020000\n",
      "Epoch: 61 == Cost: 0.000002 || Training acc: 1.000000 || Val acc: 0.981000 || Val loss: 0.019000\n",
      "Epoch: 62 == Cost: 0.000002 || Training acc: 1.000000 || Val acc: 0.980600 || Val loss: 0.019400\n",
      "Epoch: 63 == Cost: 0.000002 || Training acc: 1.000000 || Val acc: 0.979600 || Val loss: 0.020400\n",
      "Epoch: 64 == Cost: 0.000002 || Training acc: 1.000000 || Val acc: 0.980000 || Val loss: 0.020000\n",
      "Epoch: 65 == Cost: 0.000002 || Training acc: 1.000000 || Val acc: 0.979600 || Val loss: 0.020400\n",
      "Epoch: 66 == Cost: 0.000002 || Training acc: 1.000000 || Val acc: 0.980200 || Val loss: 0.019800\n",
      "Epoch: 67 == Cost: 0.000002 || Training acc: 1.000000 || Val acc: 0.980200 || Val loss: 0.019800\n",
      "Epoch: 68 == Cost: 0.000001 || Training acc: 1.000000 || Val acc: 0.980000 || Val loss: 0.020000\n",
      "Epoch: 69 == Cost: 0.000001 || Training acc: 1.000000 || Val acc: 0.980200 || Val loss: 0.019800\n",
      "Epoch: 70 == Cost: 0.000001 || Training acc: 1.000000 || Val acc: 0.980800 || Val loss: 0.019200\n",
      "Epoch: 71 == Cost: 0.000001 || Training acc: 1.000000 || Val acc: 0.980600 || Val loss: 0.019400\n",
      "Epoch: 72 == Cost: 0.000001 || Training acc: 1.000000 || Val acc: 0.981200 || Val loss: 0.018800\n",
      "Epoch: 73 == Cost: 0.000001 || Training acc: 1.000000 || Val acc: 0.980200 || Val loss: 0.019800\n",
      "Epoch: 74 == Cost: 0.000001 || Training acc: 1.000000 || Val acc: 0.980200 || Val loss: 0.019800\n",
      "Epoch: 75 == Cost: 0.000001 || Training acc: 1.000000 || Val acc: 0.981400 || Val loss: 0.018600\n",
      "Epoch: 76 == Cost: 0.000001 || Training acc: 1.000000 || Val acc: 0.981000 || Val loss: 0.019000\n",
      "Epoch: 77 == Cost: 0.000001 || Training acc: 1.000000 || Val acc: 0.980600 || Val loss: 0.019400\n",
      "Epoch: 78 == Cost: 0.000001 || Training acc: 1.000000 || Val acc: 0.981200 || Val loss: 0.018800\n",
      "Epoch: 79 == Cost: 0.000001 || Training acc: 1.000000 || Val acc: 0.980200 || Val loss: 0.019800\n",
      "Epoch: 80 == Cost: 0.000001 || Training acc: 1.000000 || Val acc: 0.980600 || Val loss: 0.019400\n",
      "Epoch: 81 == Cost: 0.000001 || Training acc: 1.000000 || Val acc: 0.981400 || Val loss: 0.018600\n",
      "Epoch: 82 == Cost: 0.000001 || Training acc: 1.000000 || Val acc: 0.980200 || Val loss: 0.019800\n",
      "Epoch: 83 == Cost: 0.000000 || Training acc: 1.000000 || Val acc: 0.980200 || Val loss: 0.019800\n",
      "Epoch: 84 == Cost: 0.000000 || Training acc: 1.000000 || Val acc: 0.980800 || Val loss: 0.019200\n",
      "Epoch: 85 == Cost: 0.000000 || Training acc: 1.000000 || Val acc: 0.980400 || Val loss: 0.019600\n",
      "Epoch: 86 == Cost: 0.000000 || Training acc: 1.000000 || Val acc: 0.980600 || Val loss: 0.019400\n",
      "Epoch: 87 == Cost: 0.000000 || Training acc: 1.000000 || Val acc: 0.980800 || Val loss: 0.019200\n",
      "Epoch: 88 == Cost: 0.000000 || Training acc: 1.000000 || Val acc: 0.980600 || Val loss: 0.019400\n",
      "Epoch: 89 == Cost: 0.000000 || Training acc: 1.000000 || Val acc: 0.980800 || Val loss: 0.019200\n",
      "Epoch: 90 == Cost: 0.000000 || Training acc: 1.000000 || Val acc: 0.981400 || Val loss: 0.018600\n",
      "Epoch: 91 == Cost: 0.000000 || Training acc: 1.000000 || Val acc: 0.981200 || Val loss: 0.018800\n",
      "Epoch: 92 == Cost: 0.000000 || Training acc: 1.000000 || Val acc: 0.980800 || Val loss: 0.019200\n",
      "Epoch: 93 == Cost: 0.000000 || Training acc: 1.000000 || Val acc: 0.980400 || Val loss: 0.019600\n",
      "Epoch: 94 == Cost: 0.000000 || Training acc: 1.000000 || Val acc: 0.981000 || Val loss: 0.019000\n",
      "Epoch: 95 == Cost: 0.000000 || Training acc: 1.000000 || Val acc: 0.981000 || Val loss: 0.019000\n",
      "Epoch: 96 == Cost: 0.000000 || Training acc: 1.000000 || Val acc: 0.980400 || Val loss: 0.019600\n",
      "Epoch: 97 == Cost: 0.000000 || Training acc: 1.000000 || Val acc: 0.981200 || Val loss: 0.018800\n",
      "Epoch: 98 == Cost: 0.000000 || Training acc: 1.000000 || Val acc: 0.981200 || Val loss: 0.018800\n",
      "Epoch: 99 == Cost: 0.000000 || Training acc: 1.000000 || Val acc: 0.981200 || Val loss: 0.018800\n"
     ]
    },
    {
     "data": {
      "image/png": "[encoded data removed]",
      "text/plain": [
       "<Figure size 432x288 with 1 Axes>"
      ]
     },
     "metadata": {
      "needs_background": "light"
     },
     "output_type": "display_data"
    },
    {
     "data": {
      "image/png": "[encoded data removed]",
      "text/plain": [
       "<Figure size 432x288 with 1 Axes>"
      ]
     },
     "metadata": {
      "needs_background": "light"
     },
     "output_type": "display_data"
    },
    {
     "data": {
      "image/png": "[encoded data removed]",
      "text/plain": [
       "<Figure size 432x288 with 1 Axes>"
      ]
     },
     "metadata": {
      "needs_background": "light"
     },
     "output_type": "display_data"
    }
   ],
   "source": [
    "hyperParams = init_hyperParams(alpha = 0.0001, num_epoch = 100, mini_batch_size = 512)\n",
    "layers_dim = init_layers()\n",
    "parameters = train(train_x_norm, train_y_encoded,dev_x_norm, dev_y_encoded,layers_dim, hyperParams, optimizer = 'adam')"
   ]
  },
  {
   "cell_type": "code",
   "execution_count": 54,
   "metadata": {},
   "outputs": [
    {
     "name": "stdout",
     "output_type": "stream",
     "text": [
      "\n",
      "Accuracy: 1.0\n",
      "\n",
      "Error:\t0.0\n"
     ]
    }
   ],
   "source": [
    "predicted_labels_train, prediction_prob_train,train_acc = predict(train_x_norm, train_y_encoded,parameters)\n",
    "print(\"\\nAccuracy: \"  + str(train_acc))\n",
    "print(\"\\nError:\\t\"+str(1-train_acc))"
   ]
  },
  {
   "cell_type": "code",
   "execution_count": 56,
   "metadata": {},
   "outputs": [
    {
     "name": "stdout",
     "output_type": "stream",
     "text": [
      "\n",
      "Accuracy: 0.9812\n",
      "\n",
      "Error:\t0.01880000000000004\n"
     ]
    }
   ],
   "source": [
    "predicted_labels_dev, prediction_prob_prob,dev_acc = predict(dev_x_norm, dev_y_encoded,parameters)\n",
    "print(\"\\nAccuracy: \"  + str(dev_acc))\n",
    "print(\"\\nError:\\t\"+str(1-dev_acc))"
   ]
  },
  {
   "cell_type": "code",
   "execution_count": 57,
   "metadata": {},
   "outputs": [
    {
     "name": "stdout",
     "output_type": "stream",
     "text": [
      "\n",
      "Accuracy: 0.9826\n",
      "\n",
      "Error:\t0.01739999999999997\n"
     ]
    }
   ],
   "source": [
    "predicted_labels_test, prediction_prob_prob,test_acc = predict(test_x_norm, test_y_encoded,parameters)\n",
    "print(\"\\nAccuracy: \"  + str(test_acc))\n",
    "print(\"\\nError:\\t\"+str(1-test_acc))"
   ]
  },
  {
   "cell_type": "markdown",
   "metadata": {},
   "source": [
    "#### Visualizating  Prediction"
   ]
  },
  {
   "cell_type": "code",
   "execution_count": null,
   "metadata": {},
   "outputs": [],
   "source": [
    "def visualize_prediction(x_orig, y_orig, predicted_labels, prediction_prob, dataset):\n",
    "    if(dataset == \"training\"):\n",
    "        visual_title = \"Sample Training Data Set\"\n",
    "        rng = range(30,40)\n",
    "    elif(dataset == \"dev\"):\n",
    "        visual_title = \"Sample Dev Data Set\"\n",
    "        rng = range(110,120)\n",
    "    elif(dataset == \"test\"):\n",
    "        visual_title = \"Sample Test Data Set\"\n",
    "        rng = range(110,120)        \n",
    "    else:\n",
    "        raise ValueError(\"Dataset set must be training or dev or test set\")\n",
    "    fig, axes = plt.subplots(nrows=2, ncols=5,figsize=(16,8))\n",
    "    fig.subplots_adjust(hspace=1)\n",
    "    fig.suptitle(visual_title)\n",
    "\n",
    "    for ax,i in zip(axes.flatten(),rng):\n",
    "        ax.imshow(x_orig[i].squeeze(),interpolation='nearest', cmap='Greys')\n",
    "        ax.set(title = \"True: \"+ str(y_orig[0,i])+\" | Predicted: \"+str(predicted_labels[0,i]))\n",
    "        ax.set(xlabel= \"Prediction Prob: %f\"%(prediction_prob[0,i]))\n",
    "    "
   ]
  },
  {
   "cell_type": "code",
   "execution_count": null,
   "metadata": {},
   "outputs": [],
   "source": [
    "visualize_prediction(train_x_sample, train_y_sample.T,predicted_labels_train, prediction_prob_train,dataset = \"training\")"
   ]
  },
  {
   "cell_type": "code",
   "execution_count": null,
   "metadata": {},
   "outputs": [],
   "source": [
    "visualize_prediction(dev_x_orig, dev_y_orig.T, predicted_labels_dev, prediction_prob_prob,dataset = \"dev\")"
   ]
  },
  {
   "cell_type": "code",
   "execution_count": null,
   "metadata": {},
   "outputs": [],
   "source": [
    "visualize_prediction(test_x_orig, test_y_orig.T, predicted_labels_test, prediction_prob_prob,dataset = \"test\")"
   ]
  },
  {
   "cell_type": "markdown",
   "metadata": {},
   "source": [
    "#### Visualizing Mislabelled Images in all datasets"
   ]
  },
  {
   "cell_type": "code",
   "execution_count": 58,
   "metadata": {},
   "outputs": [],
   "source": [
    "def visualize_mislabelled_images(x_orig,y_orig,predicted_labels,prediction_prob,dataset):\n",
    "    true_prediction = np.equal(predicted_labels,y_orig)\n",
    "    mislabelled_indices = np.asarray(np.where(true_prediction == False))\n",
    "    print(\"Total Mislabelled Images: \"+str(len(mislabelled_indices[0])))\n",
    "    \n",
    "    if(dataset == \"training\"):\n",
    "        visual_title = \"Sample Mislabelled Training Images\"\n",
    "    elif(dataset == \"dev\"):\n",
    "        visual_title = \"Sample Mislabelled Dev Images\"\n",
    "    elif(dataset == \"test\"):\n",
    "        visual_title = \"Sample Mislabelled Test Images\"\n",
    "    else:\n",
    "        raise ValueError(\"Dataset set must be training or dev or test set\")\n",
    "    \n",
    "    fig, axes = plt.subplots(nrows=2, ncols=5,figsize=(16,8))\n",
    "    fig.subplots_adjust(hspace=1)\n",
    "    fig.suptitle(visual_title)\n",
    "\n",
    "    for ax,i in zip(axes.flatten(),mislabelled_indices[1]):\n",
    "        ax.imshow(x_orig[i].squeeze(),interpolation='nearest')\n",
    "        ax.set(title = \"True: \"+ str(y_orig[0,i])+\" | Predicted: \"+str(predicted_labels[0,i]))\n",
    "        ax.set(xlabel= \"Prediction Prob: %f\"%(prediction_prob[0,i]))\n",
    "    "
   ]
  },
  {
   "cell_type": "code",
   "execution_count": 59,
   "metadata": {},
   "outputs": [
    {
     "name": "stdout",
     "output_type": "stream",
     "text": [
      "Total Mislabelled Images: 0\n"
     ]
    },
    {
     "data": {
      "image/png": "[encoded data removed]",
      "text/plain": [
       "<Figure size 1152x576 with 10 Axes>"
      ]
     },
     "metadata": {
      "needs_background": "light"
     },
     "output_type": "display_data"
    }
   ],
   "source": [
    "visualize_mislabelled_images(train_x_sample, train_y_sample.T,predicted_labels_train, prediction_prob_train,dataset = \"training\")"
   ]
  },
  {
   "cell_type": "code",
   "execution_count": 60,
   "metadata": {},
   "outputs": [
    {
     "name": "stdout",
     "output_type": "stream",
     "text": [
      "Total Mislabelled Images: 94\n"
     ]
    },
    {
     "data": {
      "image/png": "[encoded data removed]",
      "text/plain": [
       "<Figure size 1152x576 with 10 Axes>"
      ]
     },
     "metadata": {
      "needs_background": "light"
     },
     "output_type": "display_data"
    }
   ],
   "source": [
    "visualize_mislabelled_images(dev_x_orig, dev_y_orig.T, predicted_labels_dev, prediction_prob_prob,dataset = \"dev\")"
   ]
  },
  {
   "cell_type": "code",
   "execution_count": 61,
   "metadata": {},
   "outputs": [
    {
     "name": "stdout",
     "output_type": "stream",
     "text": [
      "Total Mislabelled Images: 87\n"
     ]
    },
    {
     "data": {
      "image/png": "[encoded data removed]",
      "text/plain": [
       "<Figure size 1152x576 with 10 Axes>"
      ]
     },
     "metadata": {
      "needs_background": "light"
     },
     "output_type": "display_data"
    }
   ],
   "source": [
    "visualize_mislabelled_images(test_x_orig, test_y_orig.T, predicted_labels_test, prediction_prob_prob,dataset = \"test\")"
   ]
  },
  {
   "cell_type": "markdown",
   "metadata": {},
   "source": [
    "### Predicting Real Time images"
   ]
  },
  {
   "cell_type": "code",
   "execution_count": 62,
   "metadata": {},
   "outputs": [],
   "source": [
    "from PIL import Image\n",
    "from dataPrep import one_hot_encoding"
   ]
  },
  {
   "cell_type": "code",
   "execution_count": 63,
   "metadata": {},
   "outputs": [
    {
     "data": {
      "text/plain": [
       "<matplotlib.image.AxesImage at 0x7f32f26a4190>"
      ]
     },
     "execution_count": 63,
     "metadata": {},
     "output_type": "execute_result"
    },
    {
     "data": {
      "image/png": "[encoded data removed]",
      "text/plain": [
       "<Figure size 432x288 with 1 Axes>"
      ]
     },
     "metadata": {
      "needs_background": "light"
     },
     "output_type": "display_data"
    }
   ],
   "source": [
    "image_name = \"8_1.jpg\" \n",
    "label = np.array([8]).reshape(1,1)\n",
    "\n",
    "fname = \"dataset/\" + image_name\n",
    "\n",
    "image_data =255 - np.asarray(Image.open(fname).convert('L').resize((28,28)))\n",
    "image_flattened = image_data.reshape(image_data.shape[0]*image_data.shape[1],-1)\n",
    "image_norm =(image_flattened/255.)\n",
    "\n",
    "label_encoded = one_hot_encoding(label)\n",
    "\n",
    "pridected_label,pred_prob,acc = predict(image_norm, label_encoded, parameters)\n",
    "\n",
    "plt.title(\"True Label: \"+ str(label.squeeze()))\n",
    "plt.xlabel(\"Predicted: %d | With Prob: %.4f\"%(pridected_label.squeeze(), pred_prob.squeeze()))\n",
    "plt.imshow(image_data, interpolation ='nearest',cmap='binary')\n"
   ]
  },
  {
   "cell_type": "code",
   "execution_count": null,
   "metadata": {},
   "outputs": [],
   "source": []
  }
 ],
 "metadata": {
  "kernelspec": {
   "display_name": "Python 3",
   "language": "python",
   "name": "python3"
  },
  "language_info": {
   "codemirror_mode": {
    "name": "ipython",
    "version": 3
   },
   "file_extension": ".py",
   "mimetype": "text/x-python",
   "name": "python",
   "nbconvert_exporter": "python",
   "pygments_lexer": "ipython3",
   "version": "3.7.6"
  }
 },
 "nbformat": 4,
 "nbformat_minor": 4
}
