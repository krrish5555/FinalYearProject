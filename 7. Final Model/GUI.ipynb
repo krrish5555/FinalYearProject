{
 "cells": [
  {
   "cell_type": "code",
   "execution_count": 1,
   "metadata": {},
   "outputs": [],
   "source": [
    "# from tkinter import *\n",
    "import tkinter as tk\n",
    "from PIL import Image\n",
    "import numpy as np\n",
    "import matplotlib.pyplot as plt\n",
    "\n",
    "\n",
    "#custom module\n",
    "from dataPrep import load_dataset, load_sample_dataset\n",
    "from dataPrep import prep_dataset, rand_mini_batches\n",
    "from finalModelUtils import *\n",
    "from ffnn import *"
   ]
  },
  {
   "cell_type": "code",
   "execution_count": 2,
   "metadata": {},
   "outputs": [],
   "source": [
    "#loading complete dataset\n",
    "train_x_orig, train_y_orig, dev_x_orig,dev_y_orig,test_x_orig,test_y_orig = load_dataset()"
   ]
  },
  {
   "cell_type": "code",
   "execution_count": 3,
   "metadata": {},
   "outputs": [],
   "source": [
    "#loading Sample dataset\n",
    "sample_size = 100\n",
    "train_x_sample, train_y_sample, dev_x_sample, dev_y_sample, test_x_sample, test_y_sample = load_sample_dataset(sample_size)\n"
   ]
  },
  {
   "cell_type": "code",
   "execution_count": 4,
   "metadata": {},
   "outputs": [],
   "source": [
    "# Preparing the Dataset (Flattening and Normalizing)\n",
    "train_x_norm,train_y_encoded, dev_x_norm,dev_y_encoded, test_x_norm, test_y_encoded = prep_dataset(train_x_sample, train_y_sample, dev_x_sample, dev_y_sample, test_x_sample, test_y_sample)\n"
   ]
  },
  {
   "cell_type": "code",
   "execution_count": 5,
   "metadata": {},
   "outputs": [],
   "source": [
    "# loaded_params = load_model(file_name = \"final_model_adam_dropout\") ##past saved model\n",
    "loaded_params = load_model(file_name = \"2020-05-05 08:23:50.731266 test_final_model_adam\")\n",
    "trained_params = loaded_params[\"parameters\"]\n",
    "trained_hyper_params = loaded_params[\"hyperParams\"]"
   ]
  },
  {
   "cell_type": "code",
   "execution_count": 6,
   "metadata": {},
   "outputs": [
    {
     "name": "stdout",
     "output_type": "stream",
     "text": [
      "Total Layers 3: \n",
      "(800, 784)\n",
      "(300, 800)\n",
      "(10, 300)\n",
      "{'learning_rate': 0.001, 'num_epoch': 25, 'mini_batch_size': 128, 'lambda': 0.9, 'keep_probs': [0.8, 0.8], 'beta1': 0.9, 'beta2': 0.999, 'epsilon': 1e-08}\n"
     ]
    }
   ],
   "source": [
    "L = len(trained_params) // 2\n",
    "print(\"Total Layers %d: \"%L)\n",
    "\n",
    "for l in range(L):\n",
    "    print(trained_params[\"W\" + str(l+1)].shape)\n",
    "print(trained_hyper_params)"
   ]
  },
  {
   "cell_type": "code",
   "execution_count": 7,
   "metadata": {},
   "outputs": [
    {
     "name": "stdout",
     "output_type": "stream",
     "text": [
      "+===========+===========+===============+\n",
      "| Dataset   | Accuracy \t| Error Rate \t|\n",
      "+===========+===========+===============+\n",
      "| Training  | 0.9988 \t| 0.0012 \t|\n",
      "| Dev       | 0.9828 \t| 0.0172 \t|\n",
      "| Test      | 0.9814 \t| 0.0186 \t|\n",
      "+===========+===========+===============+\n"
     ]
    }
   ],
   "source": [
    "prediction_train,train_acc,_ = predict(train_x_norm, train_y_encoded,trained_params)\n",
    "prediction_dev,dev_acc, _ = predict(dev_x_norm, dev_y_encoded,trained_params)\n",
    "prediction_test,test_acc,_ = predict(test_x_norm, test_y_encoded,trained_params)\n",
    "\n",
    "print(\"+===========+===========+===============+\")\n",
    "print(\"| Dataset   | Accuracy \\t| Error Rate \\t|\") \n",
    "print(\"+===========+===========+===============+\")\n",
    "print(\"| Training  | %.4f \\t| %.4f \\t|\"%(train_acc, 1-train_acc))\n",
    "print(\"| Dev       | %.4f \\t| %.4f \\t|\"%(dev_acc, 1-dev_acc))      \n",
    "print(\"| Test      | %.4f \\t| %.4f \\t|\"%(test_acc, 1-test_acc))      \n",
    "\n",
    "print(\"+===========+===========+===============+\")"
   ]
  },
  {
   "cell_type": "code",
   "execution_count": 8,
   "metadata": {},
   "outputs": [],
   "source": [
    "from PIL import Image\n",
    "from dataPrep import one_hot_encoding"
   ]
  },
  {
   "cell_type": "code",
   "execution_count": 109,
   "metadata": {},
   "outputs": [
    {
     "data": {
      "text/plain": [
       "(0, 9)"
      ]
     },
     "execution_count": 109,
     "metadata": {},
     "output_type": "execute_result"
    },
    {
     "data": {
      "image/png": "[encoded data removed]",
      "text/plain": [
       "<Figure size 720x576 with 2 Axes>"
      ]
     },
     "metadata": {
      "needs_background": "light"
     },
     "output_type": "display_data"
    }
   ],
   "source": [
    "image_name = \"9_2.jpg\" \n",
    "label = np.array([7]).reshape(1,1)\n",
    "\n",
    "fname = \"dataset/\" + image_name\n",
    "\n",
    "# def classify_image(fname):\n",
    "image_data = 255 - np.asarray(Image.open(fname).convert('L').resize((28,28)))\n",
    "image_flattened = image_data.reshape(image_data.shape[0]*image_data.shape[1],-1)\n",
    "image_norm =(image_flattened/255.)\n",
    "\n",
    "label_encoded = one_hot_encoding(label) ## needs to be excluded in future from here and predict function\n",
    "\n",
    "prediction,acc,_ = predict(image_norm, label_encoded, trained_params)\n",
    "\n",
    "#     return prediction\n",
    "\n",
    "\n",
    "# prediction  = classify_image(fname)\n",
    "first_lbl, first_prob = prediction[\"First Prediction\"]\n",
    "sec_lbl, sec_prob = prediction[\"Second Prediction\"]\n",
    "\n",
    "fig,ax = plt.subplots(nrows =1 , ncols =2 , figsize = (10,8))\n",
    "fig.subplots_adjust(hspace=0)\n",
    "\n",
    "ax[0].set_title(\"True Label: \"+ str(label.squeeze()))\n",
    "ax[0].set_xlabel(\"1st Prediction: %d | With Prob: %.4f \\n2nd Prediction: %d | With Prob: %.4f\"%(first_lbl, first_prob, sec_lbl, sec_prob))\n",
    "im = ax[0].imshow(image_data, interpolation ='nearest',cmap='binary')\n",
    "\n",
    "# fig.colorbar(im)\n",
    "ax[1].barh([first_lbl.squeeze(),sec_lbl.squeeze() ],[first_prob.squeeze(),sec_prob.squeeze()])\n",
    "ax[1].set_ylim(bottom = 0, top = 9)"
   ]
  },
  {
   "cell_type": "code",
   "execution_count": 115,
   "metadata": {
    "scrolled": true
   },
   "outputs": [],
   "source": [
    "import tkinter as tk\n",
    "from tkinter.filedialog import askopenfilename\n",
    "from PIL import ImageTk\n",
    "\n",
    "\n",
    "\n",
    "def upload_image():\n",
    "    filename = askopenfilename() # show an \"Open\" dialog box and return the path to the selected file\n",
    "    imageUpload = Image.open(filename).resize((250, 250), Image.ANTIALIAS) \n",
    "    \n",
    "    #extracting the image name from the file path and displaying it\n",
    "    image_name = filename.split(\"/\")[-1]\n",
    "    fileNamelbl = tk.Label(uploadPane, text = image_name, bg = \"white\")\n",
    "    fileNamelbl.place(relx = 0.4, rely = 0.05 , relwidth = 0.55, relheight = 0.08 )\n",
    "    return imageUpload\n",
    "\n",
    "def preview_image():\n",
    "    image = upload_image()\n",
    "    imageRender = ImageTk.PhotoImage(image)\n",
    "    img = tk.Label(previewCanvas, image=imageRender)\n",
    "    img.image = imageRender\n",
    "    img.place(relx = 0, rely = 0, relwidth = 1, relheight = 1 )\n",
    "    global image_data\n",
    "    image_data = 255 - np.asarray(image.convert('L').resize((28,28)))\n",
    "    \n",
    "\n",
    "    \n",
    "def classify():\n",
    "#     assert(image_data.all() != np.zeros((28,28)).all()), \"Image not Uploaded\"\n",
    "    label = np.array([0]).reshape(1,1) ## will be removed when predict function is optimized.. not needed now\n",
    "   \n",
    "    image_flattened = image_data.reshape(image_data.shape[0]*image_data.shape[1],-1)\n",
    "    image_norm =(image_flattened/255.)\n",
    "\n",
    "    label_encoded = one_hot_encoding(label) ## needs to be excluded in future from here and predict function\n",
    "\n",
    "    prediction,acc,_ = predict(image_norm, label_encoded, trained_params)\n",
    "\n",
    "    first_lbl, first_prob = prediction[\"First Prediction\"]\n",
    "    sec_lbl, sec_prob = prediction[\"Second Prediction\"]\n",
    "    \n",
    "    firstPredLbl = tk.Label(firstPredictionPane, text = first_lbl.squeeze(), font=(\"Helvetica\", 48))\n",
    "    firstPredLbl.place(relx = 0, rely = 0, relwidth = 1, relheight = 0.6 )\n",
    "        \n",
    "    firstPredProb = tk.Label(firstPredictionPane, text = \"Prob: %.4f\"%first_prob.squeeze(), font=(\"Helvetica\", 24))\n",
    "    firstPredProb.place(relx = 0, rely = 0.6, relwidth = 1, relheight = 0.4 )\n",
    "\n",
    "    fsecondPredLbl = tk.Label(secondPredictionPane, text = \"Second Guess: \\n%d\"%sec_lbl.squeeze(), font=(\"Helvetica\", 48))\n",
    "    fsecondPredLbl.place(relx = 0, rely = 0, relwidth = 1, relheight = 0.6 )\n",
    "        \n",
    "    fsecondPredProb = tk.Label(secondPredictionPane, text = \"Prob: %.4f\"%sec_prob.squeeze(), font=(\"Helvetica\", 24))\n",
    "    fsecondPredProb.place(relx = 0, rely = 0.6, relwidth = 1, relheight = 0.4 )\n",
    "\n",
    "    \n",
    "def clear():\n",
    "    drawCanvas.delete(\"all\")\n",
    "    \n",
    "    \n",
    "\n",
    "def draw(event):\n",
    "    x = event.x\n",
    "    y = event.y\n",
    "    r = 5\n",
    "    drawCanvas.create_oval( x-r, y-r, x+r, y+r,  fill='black',width = 8)\n",
    "      \n",
    "        \n",
    "\n",
    "root = tk.Tk()\n",
    "HEIGHT = 1000\n",
    "WIDTH = 1000\n",
    "image_data = np.zeros((28,28))\n",
    "# x_prev,y_prev = 0, 0\n",
    "\n",
    "\n",
    "root.geometry(str(WIDTH) + \"x\" + str(HEIGHT) )\n",
    "root.resizable(width=False, height=False)\n",
    "\n",
    "#creating Frames\n",
    "imageFrame = tk.Frame(root, bg = \"red\") #contains ways to input image\n",
    "actionFrame = tk.Frame(root, bg = \"blue\") # contains options for result and buttons for action\n",
    "predictionFrame = tk.Frame(root, bg = \"white\") # consists of result of the prediction\n",
    "\n",
    "imageFrame.place(relx=0  ,rely=0 ,relwidth = 1, relheight = 0.6)\n",
    "actionFrame.place(relx=0  ,rely=0.6 ,relwidth = 1, relheight = 0.1)\n",
    "predictionFrame.place(relx =0 , rely =0.7 , relwidth = 1, relheight = 0.3)\n",
    "\n",
    "#Image Frame\n",
    "inputLbl = tk.Label(imageFrame, text=\"Input Image\", font=(\"Helvetica\", 24))\n",
    "inputLbl.place(relx = 0, rely = 0, relwidth = 1, relheight = 0.1 )\n",
    "\n",
    "##Creating Panes for Image Input\n",
    "drawPane = tk.PanedWindow(imageFrame,bg = \"yellow\" )\n",
    "uploadPane = tk.PanedWindow(imageFrame,bg = \"green\" )\n",
    "\n",
    "drawPane.place(relx = 0, rely = 0.1, relwidth = 0.5, relheight = 0.9)\n",
    "uploadPane.place(relx = 0.5, rely = 0.1, relwidth = 0.5, relheight = 0.9)\n",
    "\n",
    "## drawPane\n",
    "#creating components for drawPan\n",
    "drawLbl = tk.Label(drawPane, text=\"Draw a Digit\")\n",
    "drawCanvas = tk.Canvas(drawPane,bg = \"white\", cursor=\"cross\")\n",
    "\n",
    "drawLbl.place(relx = 0.05, rely = 0.05, relwidth = 0.3, relheight = 0.08 )\n",
    "drawCanvas.place(relx = 0.05, rely = 0.15, relwidth = 0.9, relheight = 0.8 )\n",
    "# drawCanvas.bind(\"<Button-1>\", get_prev_xy)\n",
    "drawCanvas.bind(\"<B1-Motion>\", draw)\n",
    "\n",
    "##uploadPane\n",
    "uploadBtn = tk.Button(uploadPane, text = \"Upload\", command = preview_image )\n",
    "previewCanvas = tk.Canvas(uploadPane, bg = \"white\")\n",
    "previewlbl = tk.Label(previewCanvas, text = \"Preview\")\n",
    "\n",
    "uploadBtn.place(relx = 0.05, rely = 0.05 , relwidth = 0.3, relheight = 0.08 )\n",
    "previewCanvas.place(relx = 0.05, rely = 0.15, relwidth =0.9, relheight = 0.8 )\n",
    "previewlbl.place(relx = 0, rely = 0, relwidth = 1, relheight = 1 )\n",
    "\n",
    "# #getting the uploaded image\n",
    "# image = uploadBtn.cget(\"command\") ##problem unable to get image data\n",
    "# print(type(image))\n",
    "\n",
    "#Action Frame\n",
    "\n",
    "optionPane = tk.PanedWindow(actionFrame, bg = \"green\")\n",
    "buttonPane = tk.PanedWindow(actionFrame,bg = \"white\" )\n",
    "\n",
    "optionPane.place(relx = 0, rely = 0, relwidth = 0.5, relheight = 1)\n",
    "buttonPane.place(relx = 0.5, rely = 0, relwidth = 0.5, relheight = 1)\n",
    "\n",
    "# #optionPane\n",
    "# var1 = IntVar()\n",
    "# secondGuessCheck = tk.Checkbutton(optionPane,text = \"Display Second Guess\", variable = var1, onvalue = 1, offvalue = 0)\n",
    "# secondGuessCheck.place(relx = 0.1, rely = 0.1, relwidth = 0.8, relheight = 0.4 )\n",
    "\n",
    "\n",
    "\n",
    "\n",
    "#Prediction Frame\n",
    "predictLbl = tk.Label(predictionFrame, text=\"Prediction\", font=(\"Helvetica\", 24))\n",
    "predictLbl.place(relx = 0, rely = 0, relwidth = 1, relheight = 0.2 )\n",
    "\n",
    "firstPredictionPane = tk.PanedWindow(predictionFrame,bg = \"white\" )\n",
    "secondPredictionPane = tk.PanedWindow(predictionFrame,bg = \"yellow\" )\n",
    "\n",
    "firstPredictionPane.place(relx = 0, rely = 0.2, relwidth = 0.5, relheight = 0.8)\n",
    "secondPredictionPane.place(relx = 0.5, rely = 0.2, relwidth = 0.5, relheight = 0.8)\n",
    "\n",
    "\n",
    "\n",
    "## buttonPane\n",
    "classifyBtn = tk.Button(buttonPane,text = \"Predict\", command = classify)\n",
    "button_clear = tk.Button(buttonPane, text = \"Clear\", command = clear)\n",
    "\n",
    "classifyBtn.place(relx = 0.05, rely = 0.1, relwidth = 0.45, relheight = 0.8 )\n",
    "button_clear.place(relx = 0.55, rely = 0.1, relwidth = 0.40, relheight = 0.8)\n",
    "\n",
    "\n",
    "\n",
    "\n",
    "root.mainloop()\n",
    "\n",
    "\n",
    "\n",
    "\n",
    "\n",
    "\n"
   ]
  },
  {
   "cell_type": "markdown",
   "metadata": {},
   "source": [
    "https://ubuntuforums.org/showthread.php?t=448160&s=05d56415c41bc81c2da564b5bb8d007b&p=2681009#post2681009"
   ]
  },
  {
   "cell_type": "code",
   "execution_count": 62,
   "metadata": {},
   "outputs": [],
   "source": []
  },
  {
   "cell_type": "code",
   "execution_count": null,
   "metadata": {},
   "outputs": [],
   "source": []
  }
 ],
 "metadata": {
  "kernelspec": {
   "display_name": "Python 3",
   "language": "python",
   "name": "python3"
  },
  "language_info": {
   "codemirror_mode": {
    "name": "ipython",
    "version": 3
   },
   "file_extension": ".py",
   "mimetype": "text/x-python",
   "name": "python",
   "nbconvert_exporter": "python",
   "pygments_lexer": "ipython3",
   "version": "3.7.6"
  }
 },
 "nbformat": 4,
 "nbformat_minor": 4
}
